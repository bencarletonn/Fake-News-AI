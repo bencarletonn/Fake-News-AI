{
  "nbformat": 4,
  "nbformat_minor": 0,
  "metadata": {
    "colab": {
      "name": "finalassignment.ipynb",
      "provenance": [],
      "collapsed_sections": []
    },
    "kernelspec": {
      "name": "python3",
      "display_name": "Python 3"
    },
    "language_info": {
      "name": "python"
    }
  },
  "cells": [
    {
      "cell_type": "markdown",
      "metadata": {
        "id": "Gc2zGHLGb9Cs"
      },
      "source": [
        "# **Library Imports**"
      ]
    },
    {
      "cell_type": "code",
      "metadata": {
        "colab": {
          "base_uri": "https://localhost:8080/"
        },
        "id": "MVo_PcYSb9RQ",
        "outputId": "163dc60f-ba80-440b-fa8f-eab576ae3a33"
      },
      "source": [
        "import pandas as pd\n",
        "import pickle \n",
        "import matplotlib.pyplot as plt\n",
        "import re \n",
        "import numpy as np\n",
        "from wordcloud import WordCloud\n",
        "\n",
        "# Natural Language Processing\n",
        "import nltk \n",
        "nltk.download(\"all\")\n",
        "from nltk.corpus import stopwords \n",
        "from nltk.stem.porter import PorterStemmer\n",
        "from nltk.tokenize import word_tokenize\n",
        "\n",
        "# Feature extraction\n",
        "import gensim\n",
        "from sklearn.feature_extraction.text import CountVectorizer, TfidfVectorizer\n",
        "\n",
        "# Machine Learning Classifiers \n",
        "from sklearn.linear_model import LogisticRegression\n",
        "from sklearn.ensemble import RandomForestClassifier \n",
        "from sklearn.naive_bayes import MultinomialNB\n",
        "from sklearn.svm import SVC\n",
        "\n",
        "# Deep learning Classifers\n",
        "from tensorflow.keras.layers import Embedding, LSTM, Dense, Dropout, Bidirectional\n",
        "from tensorflow.keras.preprocessing.sequence import pad_sequences\n",
        "from tensorflow.keras.models import Sequential \n",
        "from tensorflow.keras.preprocessing.text import Tokenizer, one_hot\n",
        "\n",
        "# Splitting + Metrics + Hypertuning + Visualisation\n",
        "from sklearn.model_selection import train_test_split\n",
        "from sklearn.metrics import accuracy_score, classification_report, plot_confusion_matrix\n",
        "from sklearn.model_selection import GridSearchCV\n",
        "from sklearn.manifold import TSNE "
      ],
      "execution_count": 1,
      "outputs": [
        {
          "output_type": "stream",
          "text": [
            "[nltk_data] Downloading collection 'all'\n",
            "[nltk_data]    | \n",
            "[nltk_data]    | Downloading package abc to /root/nltk_data...\n",
            "[nltk_data]    |   Package abc is already up-to-date!\n",
            "[nltk_data]    | Downloading package alpino to /root/nltk_data...\n",
            "[nltk_data]    |   Package alpino is already up-to-date!\n",
            "[nltk_data]    | Downloading package biocreative_ppi to\n",
            "[nltk_data]    |     /root/nltk_data...\n",
            "[nltk_data]    |   Package biocreative_ppi is already up-to-date!\n",
            "[nltk_data]    | Downloading package brown to /root/nltk_data...\n",
            "[nltk_data]    |   Package brown is already up-to-date!\n",
            "[nltk_data]    | Downloading package brown_tei to /root/nltk_data...\n",
            "[nltk_data]    |   Package brown_tei is already up-to-date!\n",
            "[nltk_data]    | Downloading package cess_cat to /root/nltk_data...\n",
            "[nltk_data]    |   Package cess_cat is already up-to-date!\n",
            "[nltk_data]    | Downloading package cess_esp to /root/nltk_data...\n",
            "[nltk_data]    |   Package cess_esp is already up-to-date!\n",
            "[nltk_data]    | Downloading package chat80 to /root/nltk_data...\n",
            "[nltk_data]    |   Package chat80 is already up-to-date!\n",
            "[nltk_data]    | Downloading package city_database to\n",
            "[nltk_data]    |     /root/nltk_data...\n",
            "[nltk_data]    |   Package city_database is already up-to-date!\n",
            "[nltk_data]    | Downloading package cmudict to /root/nltk_data...\n",
            "[nltk_data]    |   Package cmudict is already up-to-date!\n",
            "[nltk_data]    | Downloading package comparative_sentences to\n",
            "[nltk_data]    |     /root/nltk_data...\n",
            "[nltk_data]    |   Package comparative_sentences is already up-to-\n",
            "[nltk_data]    |       date!\n",
            "[nltk_data]    | Downloading package comtrans to /root/nltk_data...\n",
            "[nltk_data]    |   Package comtrans is already up-to-date!\n",
            "[nltk_data]    | Downloading package conll2000 to /root/nltk_data...\n",
            "[nltk_data]    |   Package conll2000 is already up-to-date!\n",
            "[nltk_data]    | Downloading package conll2002 to /root/nltk_data...\n",
            "[nltk_data]    |   Package conll2002 is already up-to-date!\n",
            "[nltk_data]    | Downloading package conll2007 to /root/nltk_data...\n",
            "[nltk_data]    |   Package conll2007 is already up-to-date!\n",
            "[nltk_data]    | Downloading package crubadan to /root/nltk_data...\n",
            "[nltk_data]    |   Package crubadan is already up-to-date!\n",
            "[nltk_data]    | Downloading package dependency_treebank to\n",
            "[nltk_data]    |     /root/nltk_data...\n",
            "[nltk_data]    |   Package dependency_treebank is already up-to-date!\n",
            "[nltk_data]    | Downloading package dolch to /root/nltk_data...\n",
            "[nltk_data]    |   Package dolch is already up-to-date!\n",
            "[nltk_data]    | Downloading package europarl_raw to\n",
            "[nltk_data]    |     /root/nltk_data...\n",
            "[nltk_data]    |   Package europarl_raw is already up-to-date!\n",
            "[nltk_data]    | Downloading package floresta to /root/nltk_data...\n",
            "[nltk_data]    |   Package floresta is already up-to-date!\n",
            "[nltk_data]    | Downloading package framenet_v15 to\n",
            "[nltk_data]    |     /root/nltk_data...\n",
            "[nltk_data]    |   Package framenet_v15 is already up-to-date!\n",
            "[nltk_data]    | Downloading package framenet_v17 to\n",
            "[nltk_data]    |     /root/nltk_data...\n",
            "[nltk_data]    |   Package framenet_v17 is already up-to-date!\n",
            "[nltk_data]    | Downloading package gazetteers to /root/nltk_data...\n",
            "[nltk_data]    |   Package gazetteers is already up-to-date!\n",
            "[nltk_data]    | Downloading package genesis to /root/nltk_data...\n",
            "[nltk_data]    |   Package genesis is already up-to-date!\n",
            "[nltk_data]    | Downloading package gutenberg to /root/nltk_data...\n",
            "[nltk_data]    |   Package gutenberg is already up-to-date!\n",
            "[nltk_data]    | Downloading package ieer to /root/nltk_data...\n",
            "[nltk_data]    |   Package ieer is already up-to-date!\n",
            "[nltk_data]    | Downloading package inaugural to /root/nltk_data...\n",
            "[nltk_data]    |   Package inaugural is already up-to-date!\n",
            "[nltk_data]    | Downloading package indian to /root/nltk_data...\n",
            "[nltk_data]    |   Package indian is already up-to-date!\n",
            "[nltk_data]    | Downloading package jeita to /root/nltk_data...\n",
            "[nltk_data]    |   Package jeita is already up-to-date!\n",
            "[nltk_data]    | Downloading package kimmo to /root/nltk_data...\n",
            "[nltk_data]    |   Package kimmo is already up-to-date!\n",
            "[nltk_data]    | Downloading package knbc to /root/nltk_data...\n",
            "[nltk_data]    |   Package knbc is already up-to-date!\n",
            "[nltk_data]    | Downloading package lin_thesaurus to\n",
            "[nltk_data]    |     /root/nltk_data...\n",
            "[nltk_data]    |   Package lin_thesaurus is already up-to-date!\n",
            "[nltk_data]    | Downloading package mac_morpho to /root/nltk_data...\n",
            "[nltk_data]    |   Package mac_morpho is already up-to-date!\n",
            "[nltk_data]    | Downloading package machado to /root/nltk_data...\n",
            "[nltk_data]    |   Package machado is already up-to-date!\n",
            "[nltk_data]    | Downloading package masc_tagged to /root/nltk_data...\n",
            "[nltk_data]    |   Package masc_tagged is already up-to-date!\n",
            "[nltk_data]    | Downloading package moses_sample to\n",
            "[nltk_data]    |     /root/nltk_data...\n",
            "[nltk_data]    |   Package moses_sample is already up-to-date!\n",
            "[nltk_data]    | Downloading package movie_reviews to\n",
            "[nltk_data]    |     /root/nltk_data...\n",
            "[nltk_data]    |   Package movie_reviews is already up-to-date!\n",
            "[nltk_data]    | Downloading package names to /root/nltk_data...\n",
            "[nltk_data]    |   Package names is already up-to-date!\n",
            "[nltk_data]    | Downloading package nombank.1.0 to /root/nltk_data...\n",
            "[nltk_data]    |   Package nombank.1.0 is already up-to-date!\n",
            "[nltk_data]    | Downloading package nps_chat to /root/nltk_data...\n",
            "[nltk_data]    |   Package nps_chat is already up-to-date!\n",
            "[nltk_data]    | Downloading package omw to /root/nltk_data...\n",
            "[nltk_data]    |   Package omw is already up-to-date!\n",
            "[nltk_data]    | Downloading package opinion_lexicon to\n",
            "[nltk_data]    |     /root/nltk_data...\n",
            "[nltk_data]    |   Package opinion_lexicon is already up-to-date!\n",
            "[nltk_data]    | Downloading package paradigms to /root/nltk_data...\n",
            "[nltk_data]    |   Package paradigms is already up-to-date!\n",
            "[nltk_data]    | Downloading package pil to /root/nltk_data...\n",
            "[nltk_data]    |   Package pil is already up-to-date!\n",
            "[nltk_data]    | Downloading package pl196x to /root/nltk_data...\n",
            "[nltk_data]    |   Package pl196x is already up-to-date!\n",
            "[nltk_data]    | Downloading package ppattach to /root/nltk_data...\n",
            "[nltk_data]    |   Package ppattach is already up-to-date!\n",
            "[nltk_data]    | Downloading package problem_reports to\n",
            "[nltk_data]    |     /root/nltk_data...\n",
            "[nltk_data]    |   Package problem_reports is already up-to-date!\n",
            "[nltk_data]    | Downloading package propbank to /root/nltk_data...\n",
            "[nltk_data]    |   Package propbank is already up-to-date!\n",
            "[nltk_data]    | Downloading package ptb to /root/nltk_data...\n",
            "[nltk_data]    |   Package ptb is already up-to-date!\n",
            "[nltk_data]    | Downloading package product_reviews_1 to\n",
            "[nltk_data]    |     /root/nltk_data...\n",
            "[nltk_data]    |   Package product_reviews_1 is already up-to-date!\n",
            "[nltk_data]    | Downloading package product_reviews_2 to\n",
            "[nltk_data]    |     /root/nltk_data...\n",
            "[nltk_data]    |   Package product_reviews_2 is already up-to-date!\n",
            "[nltk_data]    | Downloading package pros_cons to /root/nltk_data...\n",
            "[nltk_data]    |   Package pros_cons is already up-to-date!\n",
            "[nltk_data]    | Downloading package qc to /root/nltk_data...\n",
            "[nltk_data]    |   Package qc is already up-to-date!\n",
            "[nltk_data]    | Downloading package reuters to /root/nltk_data...\n",
            "[nltk_data]    |   Package reuters is already up-to-date!\n",
            "[nltk_data]    | Downloading package rte to /root/nltk_data...\n",
            "[nltk_data]    |   Package rte is already up-to-date!\n",
            "[nltk_data]    | Downloading package semcor to /root/nltk_data...\n",
            "[nltk_data]    |   Package semcor is already up-to-date!\n",
            "[nltk_data]    | Downloading package senseval to /root/nltk_data...\n",
            "[nltk_data]    |   Package senseval is already up-to-date!\n",
            "[nltk_data]    | Downloading package sentiwordnet to\n",
            "[nltk_data]    |     /root/nltk_data...\n",
            "[nltk_data]    |   Package sentiwordnet is already up-to-date!\n",
            "[nltk_data]    | Downloading package sentence_polarity to\n",
            "[nltk_data]    |     /root/nltk_data...\n",
            "[nltk_data]    |   Package sentence_polarity is already up-to-date!\n",
            "[nltk_data]    | Downloading package shakespeare to /root/nltk_data...\n",
            "[nltk_data]    |   Package shakespeare is already up-to-date!\n",
            "[nltk_data]    | Downloading package sinica_treebank to\n",
            "[nltk_data]    |     /root/nltk_data...\n",
            "[nltk_data]    |   Package sinica_treebank is already up-to-date!\n",
            "[nltk_data]    | Downloading package smultron to /root/nltk_data...\n",
            "[nltk_data]    |   Package smultron is already up-to-date!\n",
            "[nltk_data]    | Downloading package state_union to /root/nltk_data...\n",
            "[nltk_data]    |   Package state_union is already up-to-date!\n",
            "[nltk_data]    | Downloading package stopwords to /root/nltk_data...\n",
            "[nltk_data]    |   Package stopwords is already up-to-date!\n",
            "[nltk_data]    | Downloading package subjectivity to\n",
            "[nltk_data]    |     /root/nltk_data...\n",
            "[nltk_data]    |   Package subjectivity is already up-to-date!\n",
            "[nltk_data]    | Downloading package swadesh to /root/nltk_data...\n",
            "[nltk_data]    |   Package swadesh is already up-to-date!\n",
            "[nltk_data]    | Downloading package switchboard to /root/nltk_data...\n",
            "[nltk_data]    |   Package switchboard is already up-to-date!\n",
            "[nltk_data]    | Downloading package timit to /root/nltk_data...\n",
            "[nltk_data]    |   Package timit is already up-to-date!\n",
            "[nltk_data]    | Downloading package toolbox to /root/nltk_data...\n",
            "[nltk_data]    |   Package toolbox is already up-to-date!\n",
            "[nltk_data]    | Downloading package treebank to /root/nltk_data...\n",
            "[nltk_data]    |   Package treebank is already up-to-date!\n",
            "[nltk_data]    | Downloading package twitter_samples to\n",
            "[nltk_data]    |     /root/nltk_data...\n",
            "[nltk_data]    |   Package twitter_samples is already up-to-date!\n",
            "[nltk_data]    | Downloading package udhr to /root/nltk_data...\n",
            "[nltk_data]    |   Package udhr is already up-to-date!\n",
            "[nltk_data]    | Downloading package udhr2 to /root/nltk_data...\n",
            "[nltk_data]    |   Package udhr2 is already up-to-date!\n",
            "[nltk_data]    | Downloading package unicode_samples to\n",
            "[nltk_data]    |     /root/nltk_data...\n",
            "[nltk_data]    |   Package unicode_samples is already up-to-date!\n",
            "[nltk_data]    | Downloading package universal_treebanks_v20 to\n",
            "[nltk_data]    |     /root/nltk_data...\n",
            "[nltk_data]    |   Package universal_treebanks_v20 is already up-to-\n",
            "[nltk_data]    |       date!\n",
            "[nltk_data]    | Downloading package verbnet to /root/nltk_data...\n",
            "[nltk_data]    |   Package verbnet is already up-to-date!\n",
            "[nltk_data]    | Downloading package verbnet3 to /root/nltk_data...\n",
            "[nltk_data]    |   Package verbnet3 is already up-to-date!\n",
            "[nltk_data]    | Downloading package webtext to /root/nltk_data...\n",
            "[nltk_data]    |   Package webtext is already up-to-date!\n",
            "[nltk_data]    | Downloading package wordnet to /root/nltk_data...\n",
            "[nltk_data]    |   Package wordnet is already up-to-date!\n",
            "[nltk_data]    | Downloading package wordnet_ic to /root/nltk_data...\n",
            "[nltk_data]    |   Package wordnet_ic is already up-to-date!\n",
            "[nltk_data]    | Downloading package words to /root/nltk_data...\n",
            "[nltk_data]    |   Package words is already up-to-date!\n",
            "[nltk_data]    | Downloading package ycoe to /root/nltk_data...\n",
            "[nltk_data]    |   Package ycoe is already up-to-date!\n",
            "[nltk_data]    | Downloading package rslp to /root/nltk_data...\n",
            "[nltk_data]    |   Package rslp is already up-to-date!\n",
            "[nltk_data]    | Downloading package maxent_treebank_pos_tagger to\n",
            "[nltk_data]    |     /root/nltk_data...\n",
            "[nltk_data]    |   Package maxent_treebank_pos_tagger is already up-\n",
            "[nltk_data]    |       to-date!\n",
            "[nltk_data]    | Downloading package universal_tagset to\n",
            "[nltk_data]    |     /root/nltk_data...\n",
            "[nltk_data]    |   Package universal_tagset is already up-to-date!\n",
            "[nltk_data]    | Downloading package maxent_ne_chunker to\n",
            "[nltk_data]    |     /root/nltk_data...\n",
            "[nltk_data]    |   Package maxent_ne_chunker is already up-to-date!\n",
            "[nltk_data]    | Downloading package punkt to /root/nltk_data...\n",
            "[nltk_data]    |   Package punkt is already up-to-date!\n",
            "[nltk_data]    | Downloading package book_grammars to\n",
            "[nltk_data]    |     /root/nltk_data...\n",
            "[nltk_data]    |   Package book_grammars is already up-to-date!\n",
            "[nltk_data]    | Downloading package sample_grammars to\n",
            "[nltk_data]    |     /root/nltk_data...\n",
            "[nltk_data]    |   Package sample_grammars is already up-to-date!\n",
            "[nltk_data]    | Downloading package spanish_grammars to\n",
            "[nltk_data]    |     /root/nltk_data...\n",
            "[nltk_data]    |   Package spanish_grammars is already up-to-date!\n",
            "[nltk_data]    | Downloading package basque_grammars to\n",
            "[nltk_data]    |     /root/nltk_data...\n",
            "[nltk_data]    |   Package basque_grammars is already up-to-date!\n",
            "[nltk_data]    | Downloading package large_grammars to\n",
            "[nltk_data]    |     /root/nltk_data...\n",
            "[nltk_data]    |   Package large_grammars is already up-to-date!\n",
            "[nltk_data]    | Downloading package tagsets to /root/nltk_data...\n",
            "[nltk_data]    |   Package tagsets is already up-to-date!\n",
            "[nltk_data]    | Downloading package snowball_data to\n",
            "[nltk_data]    |     /root/nltk_data...\n",
            "[nltk_data]    |   Package snowball_data is already up-to-date!\n",
            "[nltk_data]    | Downloading package bllip_wsj_no_aux to\n",
            "[nltk_data]    |     /root/nltk_data...\n",
            "[nltk_data]    |   Package bllip_wsj_no_aux is already up-to-date!\n",
            "[nltk_data]    | Downloading package word2vec_sample to\n",
            "[nltk_data]    |     /root/nltk_data...\n",
            "[nltk_data]    |   Package word2vec_sample is already up-to-date!\n",
            "[nltk_data]    | Downloading package panlex_swadesh to\n",
            "[nltk_data]    |     /root/nltk_data...\n",
            "[nltk_data]    |   Package panlex_swadesh is already up-to-date!\n",
            "[nltk_data]    | Downloading package mte_teip5 to /root/nltk_data...\n",
            "[nltk_data]    |   Package mte_teip5 is already up-to-date!\n",
            "[nltk_data]    | Downloading package averaged_perceptron_tagger to\n",
            "[nltk_data]    |     /root/nltk_data...\n",
            "[nltk_data]    |   Package averaged_perceptron_tagger is already up-\n",
            "[nltk_data]    |       to-date!\n",
            "[nltk_data]    | Downloading package averaged_perceptron_tagger_ru to\n",
            "[nltk_data]    |     /root/nltk_data...\n",
            "[nltk_data]    |   Package averaged_perceptron_tagger_ru is already\n",
            "[nltk_data]    |       up-to-date!\n",
            "[nltk_data]    | Downloading package perluniprops to\n",
            "[nltk_data]    |     /root/nltk_data...\n",
            "[nltk_data]    |   Package perluniprops is already up-to-date!\n",
            "[nltk_data]    | Downloading package nonbreaking_prefixes to\n",
            "[nltk_data]    |     /root/nltk_data...\n",
            "[nltk_data]    |   Package nonbreaking_prefixes is already up-to-date!\n",
            "[nltk_data]    | Downloading package vader_lexicon to\n",
            "[nltk_data]    |     /root/nltk_data...\n",
            "[nltk_data]    |   Package vader_lexicon is already up-to-date!\n",
            "[nltk_data]    | Downloading package porter_test to /root/nltk_data...\n",
            "[nltk_data]    |   Package porter_test is already up-to-date!\n",
            "[nltk_data]    | Downloading package wmt15_eval to /root/nltk_data...\n",
            "[nltk_data]    |   Package wmt15_eval is already up-to-date!\n",
            "[nltk_data]    | Downloading package mwa_ppdb to /root/nltk_data...\n",
            "[nltk_data]    |   Package mwa_ppdb is already up-to-date!\n",
            "[nltk_data]    | \n",
            "[nltk_data]  Done downloading collection all\n"
          ],
          "name": "stdout"
        }
      ]
    },
    {
      "cell_type": "markdown",
      "metadata": {
        "id": "SPV6TmWncJni"
      },
      "source": [
        "# **Loading and Formatting Data**"
      ]
    },
    {
      "cell_type": "code",
      "metadata": {
        "id": "3iconUVAcJxq"
      },
      "source": [
        "# Dataset: https://zenodo.org/record/4282522#.YKKbyqhKhyw\n",
        "# Focusing exclusively on supervised learning \n",
        "PATH = \"/content/drive/MyDrive/Comp-Modelling/COVID Fake News Data.csv\"\n",
        "df = pd.read_csv(PATH) \n",
        "\n",
        "# There is a clear inbalance between the number of fake and real article headlines\n",
        "df['outcome'].value_counts() \n",
        "\n",
        "# Balancing so real and fake are at ratio 50:50\n",
        "# i.e. normalising the distribution of the data \n",
        "real = df.loc[df['outcome'] == 0]\n",
        "fake = df.loc[df['outcome'] == 1]\n",
        "\n",
        "df = pd.concat([real[:450], fake[:450]], ignore_index=True) \n",
        "# Our new corpus contains 900 COVID-19 articles, 450 real and 450 fake\n",
        "\n",
        "df.head()\n",
        "df_deep = df.copy(deep=True) # Make a copy of the original data for deep-learning"
      ],
      "execution_count": 2,
      "outputs": []
    },
    {
      "cell_type": "markdown",
      "metadata": {
        "id": "ziocIGt7cTMV"
      },
      "source": [
        "# **Data Preprocessing**"
      ]
    },
    {
      "cell_type": "code",
      "metadata": {
        "id": "73pIZ5KCcSTR"
      },
      "source": [
        "# Standard processesing pipeline: \n",
        "# 1. Remove punctuation, make lower-case, tokenize\n",
        "# 2. Remove stop-words\n",
        "# 3. Apply stemming \n",
        "\n",
        "def process(text):\n",
        "  text = re.sub('[^a-zA-Z\\s]+', '', text).lower() # Remove punctuation and make lower-case\n",
        "  tokenize_text = word_tokenize(text) # Convert sentance to list of tokens\n",
        "\n",
        "  # Remove the stop-words in article title \n",
        "  filtered_text = [word for word in tokenize_text if not word in stop]\n",
        "\n",
        "  # Apply stemming \n",
        "  token_sentance = [] \n",
        "  for word in filtered_text:\n",
        "    token_sentance.append(stemmer.stem(word))\n",
        "  token_sentance = \" \".join(token_sentance) \n",
        "  return token_sentance\n",
        "\n",
        "stemmer = PorterStemmer() # We select the porter stemmer algorithm\n",
        "stop = stopwords.words(\"english\")\n",
        "\n",
        "# Apply pre-processing filter \n",
        "df['headlines'] = df['headlines'].apply(process) "
      ],
      "execution_count": 3,
      "outputs": []
    },
    {
      "cell_type": "code",
      "metadata": {
        "colab": {
          "base_uri": "https://localhost:8080/",
          "height": 198
        },
        "id": "NEQtgTHmcZjQ",
        "outputId": "2e75bef5-02af-4a86-e335-4ca92bfda7c9"
      },
      "source": [
        "# Fake news word cloud \n",
        "fake_news = df.loc[df['outcome']==0]['headlines'].sum() \n",
        "cloud = WordCloud(max_words=100, background_color='white')\n",
        "cloud.generate(fake_news) \n",
        "plt.imshow(cloud, interpolation=\"bilinear\") \n",
        "plt.axis(\"off\") \n",
        "plt.show() "
      ],
      "execution_count": 4,
      "outputs": [
        {
          "output_type": "display_data",
          "data": {
            "image/png": "[encoded data removed]",
            "text/plain": [
              "<Figure size 432x288 with 1 Axes>"
            ]
          },
          "metadata": {
            "tags": [],
            "needs_background": "light"
          }
        }
      ]
    },
    {
      "cell_type": "code",
      "metadata": {
        "colab": {
          "base_uri": "https://localhost:8080/",
          "height": 198
        },
        "id": "4rvWi4Fncbq6",
        "outputId": "96e1cb3e-7436-4a7c-df83-5cd161f910e2"
      },
      "source": [
        "# Real news word cloud \n",
        "real_news = df.loc[df['outcome']==1]['headlines'].sum()\n",
        "cloud = WordCloud(max_words=100, background_color='white')\n",
        "cloud.generate(real_news) \n",
        "plt.imshow(cloud, interpolation=\"bilinear\") \n",
        "plt.axis(\"off\") \n",
        "plt.show() "
      ],
      "execution_count": 5,
      "outputs": [
        {
          "output_type": "display_data",
          "data": {
            "image/png": "[encoded data removed]",
            "text/plain": [
              "<Figure size 432x288 with 1 Axes>"
            ]
          },
          "metadata": {
            "tags": [],
            "needs_background": "light"
          }
        }
      ]
    },
    {
      "cell_type": "code",
      "metadata": {
        "colab": {
          "base_uri": "https://localhost:8080/",
          "height": 956
        },
        "id": "j2bK0qi8eUh2",
        "outputId": "62d4034c-8c46-46f9-a6aa-2f02a4cd2a75"
      },
      "source": [
        "# Using word2vect to visualise relationships between words\n",
        "words = [x.split() for x in df['headlines'].tolist()]\n",
        "visualisation_model = gensim.models.Word2Vec(sentences=words, size=100, window=20, min_count=10, workers=4)\n",
        "\n",
        "# t-SNE visualisation of word2vec vectors\n",
        "# Taken directly from: https://www.kaggle.com/jeffd23/visualizing-word-vectors-with-t-sne\n",
        "def tsne_plot(model):\n",
        "    \"Creates and TSNE model and plots it\"\n",
        "    labels = []\n",
        "    tokens = []\n",
        "\n",
        "    for word in model.wv.vocab:\n",
        "        tokens.append(model[word])\n",
        "        labels.append(word)\n",
        "    \n",
        "    tsne_model = TSNE(perplexity=40, n_components=2, init='pca', n_iter=2500, random_state=23)\n",
        "    new_values = tsne_model.fit_transform(tokens)\n",
        "\n",
        "    x = []\n",
        "    y = []\n",
        "    for value in new_values:\n",
        "        x.append(value[0])\n",
        "        y.append(value[1])\n",
        "        \n",
        "    plt.figure(figsize=(16, 16)) \n",
        "    for i in range(len(x)):\n",
        "        plt.scatter(x[i],y[i])\n",
        "        plt.annotate(labels[i],\n",
        "                     xy=(x[i], y[i]),\n",
        "                     xytext=(5, 2),\n",
        "                     textcoords='offset points',\n",
        "                     ha='right',\n",
        "                     va='bottom')\n",
        "    plt.axis(\"off\") # added\n",
        "    plt.show()\n",
        "\n",
        "# Allows us to visualise similarity between objects\n",
        "tsne_plot(visualisation_model)"
      ],
      "execution_count": 6,
      "outputs": [
        {
          "output_type": "stream",
          "text": [
            "/usr/local/lib/python3.7/dist-packages/ipykernel_launcher.py:13: DeprecationWarning: Call to deprecated `__getitem__` (Method will be removed in 4.0.0, use self.wv.__getitem__() instead).\n",
            "  del sys.path[0]\n"
          ],
          "name": "stderr"
        },
        {
          "output_type": "display_data",
          "data": {
            "image/png": "[encoded data removed]",
            "text/plain": [
              "<Figure size 1152x1152 with 1 Axes>"
            ]
          },
          "metadata": {
            "tags": [],
            "needs_background": "light"
          }
        }
      ]
    },
    {
      "cell_type": "markdown",
      "metadata": {
        "id": "aRisyuBrcej3"
      },
      "source": [
        "# **Feature Extraction**"
      ]
    },
    {
      "cell_type": "code",
      "metadata": {
        "id": "x18z7jQAcmt7"
      },
      "source": [
        "# Bag of words, using unigrams, bigrams and trigrams\n",
        "# 2 Bag of words models, a standard TF, and a TF-IDF count\n",
        "tf = CountVectorizer(ngram_range=(1,3), max_features=5000)\n",
        "tfidf = TfidfVectorizer(ngram_range=(1,3), max_features=5000)\n",
        "\n",
        "# Convert article data to vector features\n",
        "tf_data = tf.fit_transform(df['headlines']).toarray()\n",
        "tfidf_data = tfidf.fit_transform(df['headlines']).toarray() "
      ],
      "execution_count": 7,
      "outputs": []
    },
    {
      "cell_type": "code",
      "metadata": {
        "id": "UsNukQzocp9a"
      },
      "source": [
        "# Creating a test/train split for both the TF feature-data and TF-IDF feature-data\n",
        "X_train_tf, X_test_tf, y_train_tf, y_test_tf = train_test_split(tf_data, df['outcome'], test_size=0.2, random_state=0)\n",
        "X_train_tfidf, X_test_tfidf, y_train_tfidf, y_test_tfidf = train_test_split(tfidf_data, df['outcome'], test_size=0.2, random_state=0)"
      ],
      "execution_count": 8,
      "outputs": []
    },
    {
      "cell_type": "markdown",
      "metadata": {
        "id": "iYwsYX6KcwUD"
      },
      "source": [
        "# **Machine Learning Classifiers**\n",
        "Naive Bayes, Random Forest, Logistic Regression, Support Vector Machine"
      ]
    },
    {
      "cell_type": "markdown",
      "metadata": {
        "id": "lXTiHLSOc7mp"
      },
      "source": [
        "**Naive Bayes**"
      ]
    },
    {
      "cell_type": "code",
      "metadata": {
        "colab": {
          "base_uri": "https://localhost:8080/"
        },
        "id": "Pzppp-A8cu2W",
        "outputId": "4d5aa316-6c94-41e6-94c8-af36c4257427"
      },
      "source": [
        "# TF\n",
        "mnb = MultinomialNB()\n",
        "mnb.fit(X_train_tf, y_train_tf) \n",
        "model_predictions = mnb.predict(X_test_tf) \n",
        "print(f\"Accuracy: {accuracy_score(y_test_tf, model_predictions)}\")\n",
        "print(classification_report(y_test_tf, model_predictions)) "
      ],
      "execution_count": 9,
      "outputs": [
        {
          "output_type": "stream",
          "text": [
            "Accuracy: 0.85\n",
            "              precision    recall  f1-score   support\n",
            "\n",
            "           0       0.87      0.80      0.83        83\n",
            "           1       0.84      0.90      0.87        97\n",
            "\n",
            "    accuracy                           0.85       180\n",
            "   macro avg       0.85      0.85      0.85       180\n",
            "weighted avg       0.85      0.85      0.85       180\n",
            "\n"
          ],
          "name": "stdout"
        }
      ]
    },
    {
      "cell_type": "code",
      "metadata": {
        "colab": {
          "base_uri": "https://localhost:8080/"
        },
        "id": "dPr6vcUVdA3v",
        "outputId": "a6b342c3-438e-4219-df07-25e5f8ae1356"
      },
      "source": [
        "# TF-IDF \n",
        "mnb = MultinomialNB()\n",
        "mnb.fit(X_train_tfidf, y_train_tfidf) \n",
        "model_predictions = mnb.predict(X_test_tfidf) \n",
        "print(f\"Accuracy: {accuracy_score(y_test_tfidf, model_predictions)}\")\n",
        "print(classification_report(y_test_tfidf, model_predictions))"
      ],
      "execution_count": 10,
      "outputs": [
        {
          "output_type": "stream",
          "text": [
            "Accuracy: 0.85\n",
            "              precision    recall  f1-score   support\n",
            "\n",
            "           0       0.83      0.84      0.84        83\n",
            "           1       0.86      0.86      0.86        97\n",
            "\n",
            "    accuracy                           0.85       180\n",
            "   macro avg       0.85      0.85      0.85       180\n",
            "weighted avg       0.85      0.85      0.85       180\n",
            "\n"
          ],
          "name": "stdout"
        }
      ]
    },
    {
      "cell_type": "markdown",
      "metadata": {
        "id": "f-6SpKMJdD4r"
      },
      "source": [
        "**Random Forest**"
      ]
    },
    {
      "cell_type": "code",
      "metadata": {
        "colab": {
          "base_uri": "https://localhost:8080/"
        },
        "id": "yIWchwmDdGn8",
        "outputId": "5560fb2c-2b76-40ed-c18e-3cca52d6732e"
      },
      "source": [
        "# TF\n",
        "rfc = RandomForestClassifier(random_state=8) \n",
        "rfc.fit(X_train_tf, y_train_tf) \n",
        "model_predictions = rfc.predict(X_test_tf) \n",
        "print(f\"Accuracy: {accuracy_score(y_test_tf, model_predictions)}\")\n",
        "print(classification_report(y_test_tf, model_predictions))  "
      ],
      "execution_count": 11,
      "outputs": [
        {
          "output_type": "stream",
          "text": [
            "Accuracy: 0.8333333333333334\n",
            "              precision    recall  f1-score   support\n",
            "\n",
            "           0       0.79      0.87      0.83        83\n",
            "           1       0.88      0.80      0.84        97\n",
            "\n",
            "    accuracy                           0.83       180\n",
            "   macro avg       0.83      0.84      0.83       180\n",
            "weighted avg       0.84      0.83      0.83       180\n",
            "\n"
          ],
          "name": "stdout"
        }
      ]
    },
    {
      "cell_type": "code",
      "metadata": {
        "colab": {
          "base_uri": "https://localhost:8080/"
        },
        "id": "ipZCMrXBdKHY",
        "outputId": "8dc921a3-584c-402c-c132-2f076b059bab"
      },
      "source": [
        "# TF-IDF\n",
        "rfc = RandomForestClassifier(random_state=8) \n",
        "rfc.fit(X_train_tfidf, y_train_tfidf)\n",
        "model_predictions = rfc.predict(X_test_tfidf)\n",
        "print(f\"Accuracy: {accuracy_score(y_test_tfidf, model_predictions)}\")\n",
        "print(classification_report(y_test_tfidf, model_predictions)) "
      ],
      "execution_count": 12,
      "outputs": [
        {
          "output_type": "stream",
          "text": [
            "Accuracy: 0.8444444444444444\n",
            "              precision    recall  f1-score   support\n",
            "\n",
            "           0       0.80      0.88      0.84        83\n",
            "           1       0.89      0.81      0.85        97\n",
            "\n",
            "    accuracy                           0.84       180\n",
            "   macro avg       0.84      0.85      0.84       180\n",
            "weighted avg       0.85      0.84      0.84       180\n",
            "\n"
          ],
          "name": "stdout"
        }
      ]
    },
    {
      "cell_type": "markdown",
      "metadata": {
        "id": "OXRHxPKydK69"
      },
      "source": [
        "**Logistic Regression**"
      ]
    },
    {
      "cell_type": "code",
      "metadata": {
        "colab": {
          "base_uri": "https://localhost:8080/"
        },
        "id": "emZ0Xx2edNI6",
        "outputId": "7d58f3aa-12ee-4ef4-ecc4-a96c617e33d9"
      },
      "source": [
        "# TF\n",
        "lr = LogisticRegression() \n",
        "lr.fit(X_train_tf, y_train_tf)\n",
        "model_predictions = lr.predict(X_test_tf)\n",
        "print(f\"Accuracy: {accuracy_score(y_test_tf, model_predictions)}\")\n",
        "print(classification_report(y_test_tf, model_predictions)) "
      ],
      "execution_count": 13,
      "outputs": [
        {
          "output_type": "stream",
          "text": [
            "Accuracy: 0.8444444444444444\n",
            "              precision    recall  f1-score   support\n",
            "\n",
            "           0       0.79      0.90      0.84        83\n",
            "           1       0.91      0.79      0.85        97\n",
            "\n",
            "    accuracy                           0.84       180\n",
            "   macro avg       0.85      0.85      0.84       180\n",
            "weighted avg       0.85      0.84      0.84       180\n",
            "\n"
          ],
          "name": "stdout"
        }
      ]
    },
    {
      "cell_type": "code",
      "metadata": {
        "colab": {
          "base_uri": "https://localhost:8080/"
        },
        "id": "09DFVUArdPvL",
        "outputId": "7ffa6a3c-7e26-42ba-c57d-d329d1ee3788"
      },
      "source": [
        "# TF-IDF\n",
        "lr = LogisticRegression() \n",
        "lr.fit(X_train_tfidf, y_train_tfidf)\n",
        "model_predictions = lr.predict(X_test_tfidf)\n",
        "print(f\"Accuracy: {accuracy_score(y_test_tfidf, model_predictions)}\")\n",
        "print(classification_report(y_test_tfidf, model_predictions)) "
      ],
      "execution_count": 14,
      "outputs": [
        {
          "output_type": "stream",
          "text": [
            "Accuracy: 0.8388888888888889\n",
            "              precision    recall  f1-score   support\n",
            "\n",
            "           0       0.77      0.93      0.84        83\n",
            "           1       0.93      0.76      0.84        97\n",
            "\n",
            "    accuracy                           0.84       180\n",
            "   macro avg       0.85      0.85      0.84       180\n",
            "weighted avg       0.85      0.84      0.84       180\n",
            "\n"
          ],
          "name": "stdout"
        }
      ]
    },
    {
      "cell_type": "markdown",
      "metadata": {
        "id": "xu0H_embdUe_"
      },
      "source": [
        "**Support Vector Machine**"
      ]
    },
    {
      "cell_type": "code",
      "metadata": {
        "colab": {
          "base_uri": "https://localhost:8080/"
        },
        "id": "YcvoTc7tdT5r",
        "outputId": "0eee95b8-4e92-4003-fcf8-689c271438f8"
      },
      "source": [
        "# TF\n",
        "svc = SVC(kernel='linear') \n",
        "svc.fit(X_train_tf, y_train_tf) \n",
        "model_predictions = svc.predict(X_test_tf) \n",
        "print(f\"Accuracy: {accuracy_score(y_test_tf, model_predictions)}\")\n",
        "print(classification_report(y_test_tf, model_predictions)) "
      ],
      "execution_count": 15,
      "outputs": [
        {
          "output_type": "stream",
          "text": [
            "Accuracy: 0.8388888888888889\n",
            "              precision    recall  f1-score   support\n",
            "\n",
            "           0       0.78      0.90      0.84        83\n",
            "           1       0.90      0.78      0.84        97\n",
            "\n",
            "    accuracy                           0.84       180\n",
            "   macro avg       0.84      0.84      0.84       180\n",
            "weighted avg       0.85      0.84      0.84       180\n",
            "\n"
          ],
          "name": "stdout"
        }
      ]
    },
    {
      "cell_type": "code",
      "metadata": {
        "colab": {
          "base_uri": "https://localhost:8080/"
        },
        "id": "xlMMaeFldYgK",
        "outputId": "fe6985d6-2395-4cb5-e20d-8c269eb94696"
      },
      "source": [
        "# TF-IDF\n",
        "svc = SVC(kernel='linear') \n",
        "svc.fit(X_train_tfidf, y_train_tfidf) \n",
        "model_predictions = svc.predict(X_test_tfidf) \n",
        "print(f\"Accuracy: {accuracy_score(y_test_tfidf, model_predictions)}\")\n",
        "print(classification_report(y_test_tfidf, model_predictions)) "
      ],
      "execution_count": 16,
      "outputs": [
        {
          "output_type": "stream",
          "text": [
            "Accuracy: 0.8555555555555555\n",
            "              precision    recall  f1-score   support\n",
            "\n",
            "           0       0.80      0.92      0.85        83\n",
            "           1       0.92      0.80      0.86        97\n",
            "\n",
            "    accuracy                           0.86       180\n",
            "   macro avg       0.86      0.86      0.86       180\n",
            "weighted avg       0.86      0.86      0.86       180\n",
            "\n"
          ],
          "name": "stdout"
        }
      ]
    },
    {
      "cell_type": "markdown",
      "metadata": {
        "id": "ovIhFBcVdbVz"
      },
      "source": [
        "# **Hypertuning Parameters**\n",
        "The best model is the SVM, so we hypertune its parameters below"
      ]
    },
    {
      "cell_type": "code",
      "metadata": {
        "colab": {
          "base_uri": "https://localhost:8080/"
        },
        "id": "XLr4M4rSdeJI",
        "outputId": "8f013a92-a0b2-473d-dbda-de15ce80b62f"
      },
      "source": [
        "# The best model obtained was the SVM with TF-IDF features \n",
        "\n",
        "# Creating hyper-parameter search space\n",
        "# Using a linear kernel so we don't have to optimize the gamma parameter\n",
        "param_grid = {'C' : [0.1, 1, 10, 100, 1000],\n",
        "              'gamma' : [1, 0.1, 0.01, 0.001, 0.0001],\n",
        "              'kernel' : ['linear']\n",
        "             }\n",
        "\n",
        "\n",
        "grid_svm = GridSearchCV(estimator=svc, param_grid=param_grid, scoring=\"accuracy\", n_jobs=-1, verbose=1)\n",
        "grid_svm.fit(X_train_tfidf, y_train_tfidf)\n",
        "print(grid_svm.best_estimator_)\n",
        "print(grid_svm.best_score_)\n",
        "print(grid_svm.best_params_)\n",
        "\n",
        "grid_predictions = grid_svm.predict(X_test_tfidf)\n",
        "print(f\"Accuracy: {accuracy_score(y_test_tfidf, grid_predictions)}\")\n",
        "\n",
        "# The best parameters found for our model are: {'C': 10, 'gamma': 1, 'kernel': 'linear'}\n",
        "# These achieve a train accuracy of 0.8875 and test accuracy of 0.856 -> unfortunately no improvement\n",
        "# Save this model so we can load it in later\n",
        "pickle.dump(grid_svm, file=open(\"/content/drive/MyDrive/Comp-Modelling/best_SVM_model.sav\", \"wb\"))"
      ],
      "execution_count": 17,
      "outputs": [
        {
          "output_type": "stream",
          "text": [
            "Fitting 5 folds for each of 25 candidates, totalling 125 fits\n"
          ],
          "name": "stdout"
        },
        {
          "output_type": "stream",
          "text": [
            "[Parallel(n_jobs=-1)]: Using backend LokyBackend with 2 concurrent workers.\n",
            "[Parallel(n_jobs=-1)]: Done  46 tasks      | elapsed:  1.2min\n",
            "[Parallel(n_jobs=-1)]: Done 125 out of 125 | elapsed:  3.2min finished\n"
          ],
          "name": "stderr"
        },
        {
          "output_type": "stream",
          "text": [
            "SVC(C=10, break_ties=False, cache_size=200, class_weight=None, coef0=0.0,\n",
            "    decision_function_shape='ovr', degree=3, gamma=1, kernel='linear',\n",
            "    max_iter=-1, probability=False, random_state=None, shrinking=True,\n",
            "    tol=0.001, verbose=False)\n",
            "0.8875\n",
            "{'C': 10, 'gamma': 1, 'kernel': 'linear'}\n",
            "Accuracy: 0.8555555555555555\n"
          ],
          "name": "stdout"
        }
      ]
    },
    {
      "cell_type": "code",
      "metadata": {
        "colab": {
          "base_uri": "https://localhost:8080/",
          "height": 469
        },
        "id": "srzhHAKGdqdM",
        "outputId": "fdedadd6-1774-4b2c-cf2c-365fca3a54d2"
      },
      "source": [
        "# Load the model in and test it \n",
        "grid_svm = pickle.load(open(\"/content/drive/MyDrive/Comp-Modelling/best_SVM_model.sav\", \"rb\"))\n",
        "model_predictions = grid_svm.predict(X_test_tfidf)\n",
        "print(f\"Accuracy: {accuracy_score(y_test_tfidf, model_predictions)}\")\n",
        "print(classification_report(y_test_tfidf, model_predictions)) \n",
        "\n",
        "# Confusion matrix based off:\n",
        "# https://scikit-learn.org/stable/auto_examples/model_selection/plot_confusion_matrix.html\n",
        "class_names = ['REAL', 'FAKE']\n",
        "classifier = grid_svm\n",
        "disp = plot_confusion_matrix(classifier, X_test_tfidf, y_test_tfidf, display_labels=class_names, cmap=plt.cm.Blues, normalize='true')\n",
        "disp.ax_.set_title(\"SVM Confusion Matrix\")\n",
        "# Shows how the test articles were classified \n",
        "plt.show() "
      ],
      "execution_count": 18,
      "outputs": [
        {
          "output_type": "stream",
          "text": [
            "Accuracy: 0.8555555555555555\n",
            "              precision    recall  f1-score   support\n",
            "\n",
            "           0       0.80      0.92      0.85        83\n",
            "           1       0.92      0.80      0.86        97\n",
            "\n",
            "    accuracy                           0.86       180\n",
            "   macro avg       0.86      0.86      0.86       180\n",
            "weighted avg       0.86      0.86      0.86       180\n",
            "\n"
          ],
          "name": "stdout"
        },
        {
          "output_type": "display_data",
          "data": {
            "image/png": "[encoded data removed]",
            "text/plain": [
              "<Figure size 432x288 with 2 Axes>"
            ]
          },
          "metadata": {
            "tags": [],
            "needs_background": "light"
          }
        }
      ]
    },
    {
      "cell_type": "markdown",
      "metadata": {
        "id": "gMOXoMG1dsHp"
      },
      "source": [
        "# **Most \"Real\" and \"Fake\" words**\n",
        "Based off: https://stackoverflow.com/questions/26976362/"
      ]
    },
    {
      "cell_type": "markdown",
      "metadata": {
        "id": "Jl1RgjkydxkO"
      },
      "source": [
        "**Most Fake:**"
      ]
    },
    {
      "cell_type": "code",
      "metadata": {
        "colab": {
          "base_uri": "https://localhost:8080/"
        },
        "id": "uVbPPKNsdwfm",
        "outputId": "f2bd5657-e1a5-405f-e435-70492a7e04cd"
      },
      "source": [
        "feature_names = tfidf.get_feature_names()\n",
        "classifier = svc\n",
        "sorted(zip(classifier.coef_[0], feature_names))[:10]"
      ],
      "execution_count": 19,
      "outputs": [
        {
          "output_type": "execute_result",
          "data": {
            "text/plain": [
              "[(-1.7670224727449084, 'claim'),\n",
              " (-1.5405755062667756, 'govern'),\n",
              " (-1.3852935850858477, 'brazil'),\n",
              " (-1.3413806892204314, 'prevent'),\n",
              " (-1.2032703858838363, 'brazilian'),\n",
              " (-1.1602668406030507, 'new coronaviru'),\n",
              " (-1.1346182691964182, 'doctor'),\n",
              " (-1.1309627566918494, 'solut'),\n",
              " (-1.0943186581715358, 'video'),\n",
              " (-1.0918795336798268, 'post')]"
            ]
          },
          "metadata": {
            "tags": []
          },
          "execution_count": 19
        }
      ]
    },
    {
      "cell_type": "markdown",
      "metadata": {
        "id": "2yCyxtlYd_Qm"
      },
      "source": [
        "**Most Real**"
      ]
    },
    {
      "cell_type": "code",
      "metadata": {
        "colab": {
          "base_uri": "https://localhost:8080/"
        },
        "id": "zRLIT-5ZeA5E",
        "outputId": "84607dfe-ce77-402a-9f97-db1ec652f1e5"
      },
      "source": [
        "sorted(zip(classifier.coef_[0], feature_names),reverse=True)[:10]"
      ],
      "execution_count": 20,
      "outputs": [
        {
          "output_type": "execute_result",
          "data": {
            "text/plain": [
              "[(3.32820192416484, 'googl'),\n",
              " (1.7386320481121722, 'case'),\n",
              " (1.5118467239958067, 'say'),\n",
              " (1.468129179710436, 'india'),\n",
              " (1.4469492281383372, 'trump'),\n",
              " (1.206801304279721, 'like'),\n",
              " (1.1603457219125566, 'coronaviru'),\n",
              " (1.1236207142063352, 'app'),\n",
              " (1.0065358569045662, 'covid'),\n",
              " (0.9998505280475036, 'rate')]"
            ]
          },
          "metadata": {
            "tags": []
          },
          "execution_count": 20
        }
      ]
    },
    {
      "cell_type": "markdown",
      "metadata": {
        "id": "6UKPTW82eFTg"
      },
      "source": [
        "# **Standard Deep Learning Classifiers**\n",
        "One-hot vector features \\\\\n",
        "LSTM = Long Term Short Memory \\\\\n",
        "Standard LSTM, Bidirectional LSTM"
      ]
    },
    {
      "cell_type": "code",
      "metadata": {
        "id": "rhEMiw_lf5hD"
      },
      "source": [
        "X = df['headlines']\n",
        "y = df['outcome'].values\n",
        "vocab_size = 5000 \n",
        "\n",
        "# Convert sentances to one hot vectors\n",
        "one_hot_labels = [one_hot(words, vocab_size)for words in X]\n",
        "\n",
        "# Add padding so each one hot vector is the same size, so we can feed into network\n",
        "embedded_len = pad_sequences(one_hot_labels, padding='pre', maxlen=20)\n",
        "\n",
        "# Create test and train data using the one-hot vectors\n",
        "X = np.array(embedded_len)\n",
        "y = np.array(y) \n",
        "X_train, X_test, y_train, y_test = train_test_split(X, y, test_size=0.2, random_state=42)"
      ],
      "execution_count": 21,
      "outputs": []
    },
    {
      "cell_type": "markdown",
      "metadata": {
        "id": "I1aodC96iOr8"
      },
      "source": [
        "**Standard LSTM**"
      ]
    },
    {
      "cell_type": "code",
      "metadata": {
        "colab": {
          "base_uri": "https://localhost:8080/"
        },
        "id": "7tJg1gadjoE6",
        "outputId": "7f46b587-98cb-44c1-88fb-841f97ba9733"
      },
      "source": [
        "# Defining standard LSTM architecture\n",
        "model1 = Sequential() \n",
        "model1.add(Embedding(vocab_size, 30, input_length=20))\n",
        "model1.add(Dropout(0.5))\n",
        "model1.add(LSTM(100))\n",
        "model1.add(Dropout(0.5))\n",
        "model1.add(Dense(1,activation='sigmoid'))\n",
        "model1.compile(loss='binary_crossentropy',optimizer='adam',metrics=['accuracy'])\n",
        "print(model1.summary())"
      ],
      "execution_count": 22,
      "outputs": [
        {
          "output_type": "stream",
          "text": [
            "Model: \"sequential\"\n",
            "_________________________________________________________________\n",
            "Layer (type)                 Output Shape              Param #   \n",
            "=================================================================\n",
            "embedding (Embedding)        (None, 20, 30)            150000    \n",
            "_________________________________________________________________\n",
            "dropout (Dropout)            (None, 20, 30)            0         \n",
            "_________________________________________________________________\n",
            "lstm (LSTM)                  (None, 100)               52400     \n",
            "_________________________________________________________________\n",
            "dropout_1 (Dropout)          (None, 100)               0         \n",
            "_________________________________________________________________\n",
            "dense (Dense)                (None, 1)                 101       \n",
            "=================================================================\n",
            "Total params: 202,501\n",
            "Trainable params: 202,501\n",
            "Non-trainable params: 0\n",
            "_________________________________________________________________\n",
            "None\n"
          ],
          "name": "stdout"
        }
      ]
    },
    {
      "cell_type": "code",
      "metadata": {
        "colab": {
          "base_uri": "https://localhost:8080/"
        },
        "id": "i6zAUbnkjyHM",
        "outputId": "092ce3c7-4331-45e4-e4dc-c364b1df811d"
      },
      "source": [
        "# Training model and testing it\n",
        "model1.fit(X_train,y_train,validation_data=(X_test,y_test),epochs=50)\n",
        "model_predictions = (model1.predict(X_test) > 0.5).astype(\"int32\")\n",
        "print(accuracy_score(y_test, model_predictions))\n",
        "print(classification_report(y_test, model_predictions))"
      ],
      "execution_count": 23,
      "outputs": [
        {
          "output_type": "stream",
          "text": [
            "Epoch 1/50\n",
            "23/23 [==============================] - 4s 77ms/step - loss: 0.6924 - accuracy: 0.4974 - val_loss: 0.6905 - val_accuracy: 0.4889\n",
            "Epoch 2/50\n",
            "23/23 [==============================] - 1s 26ms/step - loss: 0.6830 - accuracy: 0.6381 - val_loss: 0.6507 - val_accuracy: 0.6556\n",
            "Epoch 3/50\n",
            "23/23 [==============================] - 1s 26ms/step - loss: 0.5588 - accuracy: 0.7350 - val_loss: 0.4752 - val_accuracy: 0.8000\n",
            "Epoch 4/50\n",
            "23/23 [==============================] - 1s 26ms/step - loss: 0.3481 - accuracy: 0.8728 - val_loss: 0.4364 - val_accuracy: 0.8222\n",
            "Epoch 5/50\n",
            "23/23 [==============================] - 1s 25ms/step - loss: 0.2223 - accuracy: 0.9054 - val_loss: 0.3462 - val_accuracy: 0.8944\n",
            "Epoch 6/50\n",
            "23/23 [==============================] - 1s 26ms/step - loss: 0.1470 - accuracy: 0.9517 - val_loss: 0.3567 - val_accuracy: 0.9000\n",
            "Epoch 7/50\n",
            "23/23 [==============================] - 1s 36ms/step - loss: 0.0936 - accuracy: 0.9780 - val_loss: 0.3855 - val_accuracy: 0.9222\n",
            "Epoch 8/50\n",
            "23/23 [==============================] - 1s 26ms/step - loss: 0.0467 - accuracy: 0.9921 - val_loss: 0.4020 - val_accuracy: 0.8889\n",
            "Epoch 9/50\n",
            "23/23 [==============================] - 1s 25ms/step - loss: 0.0362 - accuracy: 0.9889 - val_loss: 0.4971 - val_accuracy: 0.8611\n",
            "Epoch 10/50\n",
            "23/23 [==============================] - 1s 26ms/step - loss: 0.0565 - accuracy: 0.9928 - val_loss: 0.4453 - val_accuracy: 0.8889\n",
            "Epoch 11/50\n",
            "23/23 [==============================] - 1s 25ms/step - loss: 0.0237 - accuracy: 0.9960 - val_loss: 0.5295 - val_accuracy: 0.8778\n",
            "Epoch 12/50\n",
            "23/23 [==============================] - 1s 26ms/step - loss: 0.0221 - accuracy: 0.9908 - val_loss: 0.5010 - val_accuracy: 0.9056\n",
            "Epoch 13/50\n",
            "23/23 [==============================] - 1s 25ms/step - loss: 0.0203 - accuracy: 0.9919 - val_loss: 0.5647 - val_accuracy: 0.8944\n",
            "Epoch 14/50\n",
            "23/23 [==============================] - 1s 26ms/step - loss: 0.0073 - accuracy: 0.9983 - val_loss: 0.5263 - val_accuracy: 0.8722\n",
            "Epoch 15/50\n",
            "23/23 [==============================] - 1s 25ms/step - loss: 0.0081 - accuracy: 0.9980 - val_loss: 0.5238 - val_accuracy: 0.9111\n",
            "Epoch 16/50\n",
            "23/23 [==============================] - 1s 25ms/step - loss: 0.0042 - accuracy: 0.9995 - val_loss: 0.6829 - val_accuracy: 0.8611\n",
            "Epoch 17/50\n",
            "23/23 [==============================] - 1s 27ms/step - loss: 0.0052 - accuracy: 0.9996 - val_loss: 0.6481 - val_accuracy: 0.8778\n",
            "Epoch 18/50\n",
            "23/23 [==============================] - 1s 26ms/step - loss: 0.0175 - accuracy: 0.9945 - val_loss: 0.5219 - val_accuracy: 0.8833\n",
            "Epoch 19/50\n",
            "23/23 [==============================] - 1s 25ms/step - loss: 0.0077 - accuracy: 0.9989 - val_loss: 0.5914 - val_accuracy: 0.9000\n",
            "Epoch 20/50\n",
            "23/23 [==============================] - 1s 25ms/step - loss: 0.0023 - accuracy: 1.0000 - val_loss: 0.6963 - val_accuracy: 0.9056\n",
            "Epoch 21/50\n",
            "23/23 [==============================] - 1s 25ms/step - loss: 0.0151 - accuracy: 0.9962 - val_loss: 0.5252 - val_accuracy: 0.9000\n",
            "Epoch 22/50\n",
            "23/23 [==============================] - 1s 25ms/step - loss: 0.0045 - accuracy: 1.0000 - val_loss: 0.6735 - val_accuracy: 0.9111\n",
            "Epoch 23/50\n",
            "23/23 [==============================] - 1s 26ms/step - loss: 0.0091 - accuracy: 0.9972 - val_loss: 0.6640 - val_accuracy: 0.8500\n",
            "Epoch 24/50\n",
            "23/23 [==============================] - 1s 24ms/step - loss: 0.0094 - accuracy: 1.0000 - val_loss: 0.6221 - val_accuracy: 0.9056\n",
            "Epoch 25/50\n",
            "23/23 [==============================] - 1s 25ms/step - loss: 0.0011 - accuracy: 1.0000 - val_loss: 0.7182 - val_accuracy: 0.9167\n",
            "Epoch 26/50\n",
            "23/23 [==============================] - 1s 26ms/step - loss: 0.0039 - accuracy: 0.9978 - val_loss: 0.6346 - val_accuracy: 0.9056\n",
            "Epoch 27/50\n",
            "23/23 [==============================] - 1s 25ms/step - loss: 0.0020 - accuracy: 0.9998 - val_loss: 0.6607 - val_accuracy: 0.9111\n",
            "Epoch 28/50\n",
            "23/23 [==============================] - 1s 26ms/step - loss: 0.0049 - accuracy: 1.0000 - val_loss: 0.7309 - val_accuracy: 0.9222\n",
            "Epoch 29/50\n",
            "23/23 [==============================] - 1s 26ms/step - loss: 9.0889e-04 - accuracy: 1.0000 - val_loss: 0.7578 - val_accuracy: 0.9222\n",
            "Epoch 30/50\n",
            "23/23 [==============================] - 1s 26ms/step - loss: 0.0011 - accuracy: 1.0000 - val_loss: 0.9226 - val_accuracy: 0.8500\n",
            "Epoch 31/50\n",
            "23/23 [==============================] - 1s 25ms/step - loss: 0.0336 - accuracy: 0.9938 - val_loss: 0.4669 - val_accuracy: 0.8889\n",
            "Epoch 32/50\n",
            "23/23 [==============================] - 1s 26ms/step - loss: 0.0238 - accuracy: 0.9983 - val_loss: 0.7153 - val_accuracy: 0.9167\n",
            "Epoch 33/50\n",
            "23/23 [==============================] - 1s 26ms/step - loss: 0.0861 - accuracy: 0.9789 - val_loss: 0.5351 - val_accuracy: 0.8722\n",
            "Epoch 34/50\n",
            "23/23 [==============================] - 1s 26ms/step - loss: 0.0197 - accuracy: 0.9998 - val_loss: 0.5716 - val_accuracy: 0.9000\n",
            "Epoch 35/50\n",
            "23/23 [==============================] - 1s 26ms/step - loss: 0.0048 - accuracy: 1.0000 - val_loss: 0.6386 - val_accuracy: 0.8556\n",
            "Epoch 36/50\n",
            "23/23 [==============================] - 1s 26ms/step - loss: 0.0053 - accuracy: 1.0000 - val_loss: 0.5666 - val_accuracy: 0.8778\n",
            "Epoch 37/50\n",
            "23/23 [==============================] - 1s 26ms/step - loss: 0.0038 - accuracy: 1.0000 - val_loss: 0.6392 - val_accuracy: 0.8667\n",
            "Epoch 38/50\n",
            "23/23 [==============================] - 1s 24ms/step - loss: 0.0027 - accuracy: 1.0000 - val_loss: 0.6769 - val_accuracy: 0.9056\n",
            "Epoch 39/50\n",
            "23/23 [==============================] - 1s 26ms/step - loss: 0.0015 - accuracy: 1.0000 - val_loss: 0.6516 - val_accuracy: 0.8722\n",
            "Epoch 40/50\n",
            "23/23 [==============================] - 1s 26ms/step - loss: 7.5712e-04 - accuracy: 1.0000 - val_loss: 0.9108 - val_accuracy: 0.8389\n",
            "Epoch 41/50\n",
            "23/23 [==============================] - 1s 26ms/step - loss: 0.0033 - accuracy: 1.0000 - val_loss: 0.6345 - val_accuracy: 0.9000\n",
            "Epoch 42/50\n",
            "23/23 [==============================] - 1s 25ms/step - loss: 8.0367e-04 - accuracy: 1.0000 - val_loss: 0.6136 - val_accuracy: 0.8778\n",
            "Epoch 43/50\n",
            "23/23 [==============================] - 1s 25ms/step - loss: 6.5170e-04 - accuracy: 1.0000 - val_loss: 0.6627 - val_accuracy: 0.8833\n",
            "Epoch 44/50\n",
            "23/23 [==============================] - 1s 27ms/step - loss: 3.9532e-04 - accuracy: 1.0000 - val_loss: 0.6944 - val_accuracy: 0.8833\n",
            "Epoch 45/50\n",
            "23/23 [==============================] - 1s 25ms/step - loss: 2.9455e-04 - accuracy: 1.0000 - val_loss: 0.7196 - val_accuracy: 0.8778\n",
            "Epoch 46/50\n",
            "23/23 [==============================] - 1s 25ms/step - loss: 3.1717e-04 - accuracy: 1.0000 - val_loss: 0.7203 - val_accuracy: 0.8889\n",
            "Epoch 47/50\n",
            "23/23 [==============================] - 1s 27ms/step - loss: 0.0022 - accuracy: 0.9985 - val_loss: 0.7192 - val_accuracy: 0.8778\n",
            "Epoch 48/50\n",
            "23/23 [==============================] - 1s 25ms/step - loss: 5.1510e-04 - accuracy: 1.0000 - val_loss: 0.7199 - val_accuracy: 0.9000\n",
            "Epoch 49/50\n",
            "23/23 [==============================] - 1s 26ms/step - loss: 5.0045e-04 - accuracy: 0.9997 - val_loss: 0.7930 - val_accuracy: 0.8667\n",
            "Epoch 50/50\n",
            "23/23 [==============================] - 1s 26ms/step - loss: 0.0033 - accuracy: 1.0000 - val_loss: 0.6592 - val_accuracy: 0.9056\n",
            "0.9055555555555556\n",
            "              precision    recall  f1-score   support\n",
            "\n",
            "           0       0.92      0.89      0.91        94\n",
            "           1       0.89      0.92      0.90        86\n",
            "\n",
            "    accuracy                           0.91       180\n",
            "   macro avg       0.91      0.91      0.91       180\n",
            "weighted avg       0.91      0.91      0.91       180\n",
            "\n"
          ],
          "name": "stdout"
        }
      ]
    },
    {
      "cell_type": "markdown",
      "metadata": {
        "id": "ccNeJ7I_iRMj"
      },
      "source": [
        "**Bidirectional LSTM**"
      ]
    },
    {
      "cell_type": "code",
      "metadata": {
        "colab": {
          "base_uri": "https://localhost:8080/"
        },
        "id": "LQ7MzDipge1v",
        "outputId": "371fb09a-7609-4772-c8ad-522b85589d1b"
      },
      "source": [
        "# Defining Bidirectional LSTM architecture\n",
        "model2 = Sequential() \n",
        "model2.add(Embedding(vocab_size, 30, input_length=20))\n",
        "model2.add(Dropout(0.5))\n",
        "model2.add(Bidirectional(LSTM(100)))\n",
        "model2.add(Dropout(0.5))\n",
        "model2.add(Dense(1,activation='sigmoid'))\n",
        "model2.compile(loss='binary_crossentropy',optimizer='adam',metrics=['accuracy'])\n",
        "print(model2.summary())"
      ],
      "execution_count": 24,
      "outputs": [
        {
          "output_type": "stream",
          "text": [
            "Model: \"sequential_1\"\n",
            "_________________________________________________________________\n",
            "Layer (type)                 Output Shape              Param #   \n",
            "=================================================================\n",
            "embedding_1 (Embedding)      (None, 20, 30)            150000    \n",
            "_________________________________________________________________\n",
            "dropout_2 (Dropout)          (None, 20, 30)            0         \n",
            "_________________________________________________________________\n",
            "bidirectional (Bidirectional (None, 200)               104800    \n",
            "_________________________________________________________________\n",
            "dropout_3 (Dropout)          (None, 200)               0         \n",
            "_________________________________________________________________\n",
            "dense_1 (Dense)              (None, 1)                 201       \n",
            "=================================================================\n",
            "Total params: 255,001\n",
            "Trainable params: 255,001\n",
            "Non-trainable params: 0\n",
            "_________________________________________________________________\n",
            "None\n"
          ],
          "name": "stdout"
        }
      ]
    },
    {
      "cell_type": "code",
      "metadata": {
        "colab": {
          "base_uri": "https://localhost:8080/"
        },
        "id": "SP0l0h8Ohk5Q",
        "outputId": "02028614-d4e9-4918-fe2d-2647500a5011"
      },
      "source": [
        "# Training model and testing it\n",
        "model2.fit(X_train,y_train, validation_data=(X_test,y_test), epochs=50)\n",
        "model_predictions = (model2.predict(X_test) > 0.5).astype(\"int32\")\n",
        "print(accuracy_score(y_test, model_predictions))\n",
        "print(classification_report(y_test, model_predictions))"
      ],
      "execution_count": 25,
      "outputs": [
        {
          "output_type": "stream",
          "text": [
            "Epoch 1/50\n",
            "23/23 [==============================] - 6s 79ms/step - loss: 0.6936 - accuracy: 0.4555 - val_loss: 0.6909 - val_accuracy: 0.5167\n",
            "Epoch 2/50\n",
            "23/23 [==============================] - 1s 35ms/step - loss: 0.6832 - accuracy: 0.5735 - val_loss: 0.6395 - val_accuracy: 0.6833\n",
            "Epoch 3/50\n",
            "23/23 [==============================] - 1s 35ms/step - loss: 0.5213 - accuracy: 0.7675 - val_loss: 0.5672 - val_accuracy: 0.7556\n",
            "Epoch 4/50\n",
            "23/23 [==============================] - 1s 36ms/step - loss: 0.2854 - accuracy: 0.8973 - val_loss: 0.4218 - val_accuracy: 0.8278\n",
            "Epoch 5/50\n",
            "23/23 [==============================] - 1s 37ms/step - loss: 0.1512 - accuracy: 0.9475 - val_loss: 0.4462 - val_accuracy: 0.8389\n",
            "Epoch 6/50\n",
            "23/23 [==============================] - 1s 35ms/step - loss: 0.0571 - accuracy: 0.9808 - val_loss: 0.3589 - val_accuracy: 0.8833\n",
            "Epoch 7/50\n",
            "23/23 [==============================] - 1s 36ms/step - loss: 0.0431 - accuracy: 0.9865 - val_loss: 0.5361 - val_accuracy: 0.8333\n",
            "Epoch 8/50\n",
            "23/23 [==============================] - 1s 36ms/step - loss: 0.0299 - accuracy: 0.9928 - val_loss: 0.5842 - val_accuracy: 0.8500\n",
            "Epoch 9/50\n",
            "23/23 [==============================] - 1s 37ms/step - loss: 0.0163 - accuracy: 0.9969 - val_loss: 0.4565 - val_accuracy: 0.8500\n",
            "Epoch 10/50\n",
            "23/23 [==============================] - 1s 37ms/step - loss: 0.0070 - accuracy: 1.0000 - val_loss: 0.5589 - val_accuracy: 0.8667\n",
            "Epoch 11/50\n",
            "23/23 [==============================] - 1s 38ms/step - loss: 0.0041 - accuracy: 0.9992 - val_loss: 0.6514 - val_accuracy: 0.8278\n",
            "Epoch 12/50\n",
            "23/23 [==============================] - 1s 36ms/step - loss: 0.0062 - accuracy: 0.9985 - val_loss: 0.5419 - val_accuracy: 0.8722\n",
            "Epoch 13/50\n",
            "23/23 [==============================] - 1s 36ms/step - loss: 0.0059 - accuracy: 0.9981 - val_loss: 0.5787 - val_accuracy: 0.8778\n",
            "Epoch 14/50\n",
            "23/23 [==============================] - 1s 37ms/step - loss: 0.0030 - accuracy: 0.9986 - val_loss: 0.6274 - val_accuracy: 0.8722\n",
            "Epoch 15/50\n",
            "23/23 [==============================] - 1s 37ms/step - loss: 0.0011 - accuracy: 1.0000 - val_loss: 0.6192 - val_accuracy: 0.8889\n",
            "Epoch 16/50\n",
            "23/23 [==============================] - 1s 36ms/step - loss: 0.0135 - accuracy: 0.9955 - val_loss: 0.4885 - val_accuracy: 0.8722\n",
            "Epoch 17/50\n",
            "23/23 [==============================] - 1s 35ms/step - loss: 0.0011 - accuracy: 1.0000 - val_loss: 0.6659 - val_accuracy: 0.8667\n",
            "Epoch 18/50\n",
            "23/23 [==============================] - 1s 36ms/step - loss: 7.3978e-04 - accuracy: 1.0000 - val_loss: 0.7060 - val_accuracy: 0.8667\n",
            "Epoch 19/50\n",
            "23/23 [==============================] - 1s 36ms/step - loss: 6.9399e-04 - accuracy: 1.0000 - val_loss: 0.7271 - val_accuracy: 0.8722\n",
            "Epoch 20/50\n",
            "23/23 [==============================] - 1s 36ms/step - loss: 5.0808e-04 - accuracy: 1.0000 - val_loss: 0.7404 - val_accuracy: 0.8667\n",
            "Epoch 21/50\n",
            "23/23 [==============================] - 1s 36ms/step - loss: 8.7152e-04 - accuracy: 0.9998 - val_loss: 0.6895 - val_accuracy: 0.8778\n",
            "Epoch 22/50\n",
            "23/23 [==============================] - 1s 36ms/step - loss: 0.0037 - accuracy: 0.9984 - val_loss: 0.7530 - val_accuracy: 0.8611\n",
            "Epoch 23/50\n",
            "23/23 [==============================] - 1s 36ms/step - loss: 0.0125 - accuracy: 0.9978 - val_loss: 0.6215 - val_accuracy: 0.8611\n",
            "Epoch 24/50\n",
            "23/23 [==============================] - 1s 36ms/step - loss: 0.0023 - accuracy: 1.0000 - val_loss: 0.5946 - val_accuracy: 0.8889\n",
            "Epoch 25/50\n",
            "23/23 [==============================] - 1s 37ms/step - loss: 0.0010 - accuracy: 1.0000 - val_loss: 0.6728 - val_accuracy: 0.8667\n",
            "Epoch 26/50\n",
            "23/23 [==============================] - 1s 35ms/step - loss: 0.0013 - accuracy: 1.0000 - val_loss: 0.6789 - val_accuracy: 0.8778\n",
            "Epoch 27/50\n",
            "23/23 [==============================] - 1s 37ms/step - loss: 0.0013 - accuracy: 1.0000 - val_loss: 0.7762 - val_accuracy: 0.8389\n",
            "Epoch 28/50\n",
            "23/23 [==============================] - 1s 37ms/step - loss: 9.4584e-04 - accuracy: 1.0000 - val_loss: 0.8387 - val_accuracy: 0.8500\n",
            "Epoch 29/50\n",
            "23/23 [==============================] - 1s 35ms/step - loss: 0.0011 - accuracy: 1.0000 - val_loss: 0.8166 - val_accuracy: 0.8500\n",
            "Epoch 30/50\n",
            "23/23 [==============================] - 1s 37ms/step - loss: 3.2498e-04 - accuracy: 1.0000 - val_loss: 0.8401 - val_accuracy: 0.8556\n",
            "Epoch 31/50\n",
            "23/23 [==============================] - 1s 37ms/step - loss: 5.1235e-04 - accuracy: 1.0000 - val_loss: 0.8699 - val_accuracy: 0.8500\n",
            "Epoch 32/50\n",
            "23/23 [==============================] - 1s 37ms/step - loss: 2.3188e-04 - accuracy: 1.0000 - val_loss: 0.8857 - val_accuracy: 0.8611\n",
            "Epoch 33/50\n",
            "23/23 [==============================] - 1s 36ms/step - loss: 5.4151e-04 - accuracy: 1.0000 - val_loss: 0.8963 - val_accuracy: 0.8611\n",
            "Epoch 34/50\n",
            "23/23 [==============================] - 1s 36ms/step - loss: 7.5097e-04 - accuracy: 0.9997 - val_loss: 0.7734 - val_accuracy: 0.8722\n",
            "Epoch 35/50\n",
            "23/23 [==============================] - 1s 36ms/step - loss: 0.0021 - accuracy: 0.9994 - val_loss: 0.7999 - val_accuracy: 0.8611\n",
            "Epoch 36/50\n",
            "23/23 [==============================] - 1s 38ms/step - loss: 0.0017 - accuracy: 0.9997 - val_loss: 0.8900 - val_accuracy: 0.8778\n",
            "Epoch 37/50\n",
            "23/23 [==============================] - 1s 36ms/step - loss: 0.0074 - accuracy: 0.9951 - val_loss: 0.6260 - val_accuracy: 0.8556\n",
            "Epoch 38/50\n",
            "23/23 [==============================] - 1s 36ms/step - loss: 0.0052 - accuracy: 0.9989 - val_loss: 0.7132 - val_accuracy: 0.8556\n",
            "Epoch 39/50\n",
            "23/23 [==============================] - 1s 37ms/step - loss: 0.0122 - accuracy: 0.9948 - val_loss: 0.6294 - val_accuracy: 0.8333\n",
            "Epoch 40/50\n",
            "23/23 [==============================] - 1s 37ms/step - loss: 0.0080 - accuracy: 0.9965 - val_loss: 0.8765 - val_accuracy: 0.8444\n",
            "Epoch 41/50\n",
            "23/23 [==============================] - 1s 37ms/step - loss: 6.1360e-04 - accuracy: 1.0000 - val_loss: 0.9080 - val_accuracy: 0.8278\n",
            "Epoch 42/50\n",
            "23/23 [==============================] - 1s 37ms/step - loss: 0.0100 - accuracy: 0.9978 - val_loss: 1.0897 - val_accuracy: 0.8611\n",
            "Epoch 43/50\n",
            "23/23 [==============================] - 1s 36ms/step - loss: 1.1966e-04 - accuracy: 1.0000 - val_loss: 1.1726 - val_accuracy: 0.8500\n",
            "Epoch 44/50\n",
            "23/23 [==============================] - 1s 35ms/step - loss: 0.0138 - accuracy: 0.9955 - val_loss: 1.1821 - val_accuracy: 0.8389\n",
            "Epoch 45/50\n",
            "23/23 [==============================] - 1s 35ms/step - loss: 0.0159 - accuracy: 0.9922 - val_loss: 0.9390 - val_accuracy: 0.8333\n",
            "Epoch 46/50\n",
            "23/23 [==============================] - 1s 36ms/step - loss: 0.0025 - accuracy: 0.9994 - val_loss: 0.9100 - val_accuracy: 0.8444\n",
            "Epoch 47/50\n",
            "23/23 [==============================] - 1s 36ms/step - loss: 0.0014 - accuracy: 1.0000 - val_loss: 1.0007 - val_accuracy: 0.8444\n",
            "Epoch 48/50\n",
            "23/23 [==============================] - 1s 37ms/step - loss: 4.0319e-04 - accuracy: 1.0000 - val_loss: 1.0319 - val_accuracy: 0.8444\n",
            "Epoch 49/50\n",
            "23/23 [==============================] - 1s 36ms/step - loss: 6.4168e-04 - accuracy: 1.0000 - val_loss: 1.0674 - val_accuracy: 0.8444\n",
            "Epoch 50/50\n",
            "23/23 [==============================] - 1s 36ms/step - loss: 8.6247e-04 - accuracy: 1.0000 - val_loss: 0.9404 - val_accuracy: 0.8444\n",
            "0.8444444444444444\n",
            "              precision    recall  f1-score   support\n",
            "\n",
            "           0       0.86      0.84      0.85        94\n",
            "           1       0.83      0.85      0.84        86\n",
            "\n",
            "    accuracy                           0.84       180\n",
            "   macro avg       0.84      0.84      0.84       180\n",
            "weighted avg       0.84      0.84      0.84       180\n",
            "\n"
          ],
          "name": "stdout"
        }
      ]
    },
    {
      "cell_type": "markdown",
      "metadata": {
        "id": "7BGlOAnnlqVP"
      },
      "source": [
        "# **Word Embedding Deep Learning Classifiers**\n",
        "\n",
        "We use the GloVe pre-trained word embeddings provided by the Stanford NLP team. This means we will not preprocess the data, as we want each word in its original form \\\\\n",
        "Word embeddings based of this tutorial: https://stackabuse.com/python-for-nlp-word-embeddings-for-deep-learning-in-keras/"
      ]
    },
    {
      "cell_type": "code",
      "metadata": {
        "id": "OoUCEJtHge7I"
      },
      "source": [
        "# Loading pretrained word embedding \n",
        "word_tokenizer = Tokenizer() \n",
        "word_tokenizer.fit_on_texts(df_deep['headlines'].values)\n",
        "vocab_length = len(word_tokenizer.word_index) + 1\n",
        "\n",
        "X = word_tokenizer.texts_to_sequences(df_deep['headlines'].values)\n",
        "y = df_deep['outcome'].values\n",
        "\n",
        "# Add padding to X so each headline is the same length\n",
        "X = pad_sequences(X, 35, padding='post') # Longest headline is 35 words so we pad to 35 \n",
        "embedding_mapping = {} # Create a mapping from word to an embedding"
      ],
      "execution_count": 26,
      "outputs": []
    },
    {
      "cell_type": "code",
      "metadata": {
        "id": "uf73XubRpvM-"
      },
      "source": [
        "# Loading in the pre-trained word embeddings from the stanford NLP team\n",
        "glove_file = open(\"/content/drive/MyDrive/Comp-Modelling/glove.6B.300d.txt\", encoding=\"utf8\")\n",
        "\n",
        "# Filling out the embedding mapping\n",
        "for line in glove_file:\n",
        "  records = line.split() \n",
        "  word = records[0] \n",
        "  vector_dimensions = np.asarray(records[1:], dtype='float32')\n",
        "  embedding_mapping[word] = vector_dimensions \n",
        "glove_file.close() \n",
        "\n",
        "# Creating a matrix to store the words in our vocab and there equivalent embedding\n",
        "embedding_matrix = np.zeros((vocab_length, 300))\n",
        "for word, index in word_tokenizer.word_index.items():\n",
        "  embedding_vector = embedding_mapping.get(word)\n",
        "  if embedding_vector is not None:\n",
        "    embedding_matrix[index] = embedding_vector"
      ],
      "execution_count": 27,
      "outputs": []
    },
    {
      "cell_type": "code",
      "metadata": {
        "id": "KqOAEyDspvRs"
      },
      "source": [
        "# Test train split \n",
        "X_train, X_test, y_train, y_test = train_test_split(X, y, test_size=0.2, random_state=42)"
      ],
      "execution_count": 28,
      "outputs": []
    },
    {
      "cell_type": "markdown",
      "metadata": {
        "id": "k4c476FEqYKC"
      },
      "source": [
        "**Standard LSTM with word embeddings**"
      ]
    },
    {
      "cell_type": "code",
      "metadata": {
        "colab": {
          "base_uri": "https://localhost:8080/"
        },
        "id": "GK-BG-ucqHtT",
        "outputId": "305b03be-d4bd-4d99-b20c-de7c0ada2524"
      },
      "source": [
        "model3 = Sequential() \n",
        "model3.add(Embedding(vocab_length, 300, weights=[embedding_matrix], input_length=35, trainable=False))\n",
        "model3.add(Dropout(0.5))\n",
        "model3.add(LSTM(100))\n",
        "model3.add(Dropout(0.5))\n",
        "model3.add(Dense(1,activation='sigmoid'))\n",
        "model3.compile(loss='binary_crossentropy', optimizer='adam', metrics=['accuracy'])\n",
        "print(model3.summary())"
      ],
      "execution_count": 29,
      "outputs": [
        {
          "output_type": "stream",
          "text": [
            "Model: \"sequential_2\"\n",
            "_________________________________________________________________\n",
            "Layer (type)                 Output Shape              Param #   \n",
            "=================================================================\n",
            "embedding_2 (Embedding)      (None, 35, 300)           1065000   \n",
            "_________________________________________________________________\n",
            "dropout_4 (Dropout)          (None, 35, 300)           0         \n",
            "_________________________________________________________________\n",
            "lstm_2 (LSTM)                (None, 100)               160400    \n",
            "_________________________________________________________________\n",
            "dropout_5 (Dropout)          (None, 100)               0         \n",
            "_________________________________________________________________\n",
            "dense_2 (Dense)              (None, 1)                 101       \n",
            "=================================================================\n",
            "Total params: 1,225,501\n",
            "Trainable params: 160,501\n",
            "Non-trainable params: 1,065,000\n",
            "_________________________________________________________________\n",
            "None\n"
          ],
          "name": "stdout"
        }
      ]
    },
    {
      "cell_type": "code",
      "metadata": {
        "colab": {
          "base_uri": "https://localhost:8080/"
        },
        "id": "nnwlQgIPqHv1",
        "outputId": "cbfda946-7cff-46a1-e273-c6267cb48b75"
      },
      "source": [
        "model3.fit(X_train, y_train, epochs=50, verbose=1)\n",
        "model_predictions = (model3.predict(X_test) > 0.5).astype(\"int32\")\n",
        "print(accuracy_score(y_test, model_predictions))\n",
        "print(classification_report(y_test, model_predictions))"
      ],
      "execution_count": 30,
      "outputs": [
        {
          "output_type": "stream",
          "text": [
            "Epoch 1/50\n",
            "23/23 [==============================] - 4s 55ms/step - loss: 0.6823 - accuracy: 0.5103\n",
            "Epoch 2/50\n",
            "23/23 [==============================] - 1s 53ms/step - loss: 0.5653 - accuracy: 0.7395\n",
            "Epoch 3/50\n",
            "23/23 [==============================] - 1s 53ms/step - loss: 0.3722 - accuracy: 0.8551\n",
            "Epoch 4/50\n",
            "23/23 [==============================] - 1s 54ms/step - loss: 0.3037 - accuracy: 0.8781\n",
            "Epoch 5/50\n",
            "23/23 [==============================] - 1s 53ms/step - loss: 0.2661 - accuracy: 0.8914\n",
            "Epoch 6/50\n",
            "23/23 [==============================] - 1s 54ms/step - loss: 0.2221 - accuracy: 0.9253\n",
            "Epoch 7/50\n",
            "23/23 [==============================] - 1s 54ms/step - loss: 0.2212 - accuracy: 0.9110\n",
            "Epoch 8/50\n",
            "23/23 [==============================] - 1s 55ms/step - loss: 0.2126 - accuracy: 0.9119\n",
            "Epoch 9/50\n",
            "23/23 [==============================] - 1s 54ms/step - loss: 0.1503 - accuracy: 0.9420\n",
            "Epoch 10/50\n",
            "23/23 [==============================] - 1s 53ms/step - loss: 0.1376 - accuracy: 0.9513\n",
            "Epoch 11/50\n",
            "23/23 [==============================] - 1s 53ms/step - loss: 0.1534 - accuracy: 0.9407\n",
            "Epoch 12/50\n",
            "23/23 [==============================] - 1s 53ms/step - loss: 0.1355 - accuracy: 0.9472\n",
            "Epoch 13/50\n",
            "23/23 [==============================] - 1s 52ms/step - loss: 0.1340 - accuracy: 0.9445\n",
            "Epoch 14/50\n",
            "23/23 [==============================] - 1s 55ms/step - loss: 0.1030 - accuracy: 0.9576\n",
            "Epoch 15/50\n",
            "23/23 [==============================] - 1s 53ms/step - loss: 0.0889 - accuracy: 0.9759\n",
            "Epoch 16/50\n",
            "23/23 [==============================] - 1s 52ms/step - loss: 0.1265 - accuracy: 0.9507\n",
            "Epoch 17/50\n",
            "23/23 [==============================] - 1s 55ms/step - loss: 0.0608 - accuracy: 0.9829\n",
            "Epoch 18/50\n",
            "23/23 [==============================] - 1s 53ms/step - loss: 0.1239 - accuracy: 0.9596\n",
            "Epoch 19/50\n",
            "23/23 [==============================] - 1s 53ms/step - loss: 0.0772 - accuracy: 0.9741\n",
            "Epoch 20/50\n",
            "23/23 [==============================] - 1s 54ms/step - loss: 0.0571 - accuracy: 0.9705\n",
            "Epoch 21/50\n",
            "23/23 [==============================] - 1s 55ms/step - loss: 0.0520 - accuracy: 0.9865\n",
            "Epoch 22/50\n",
            "23/23 [==============================] - 1s 52ms/step - loss: 0.0669 - accuracy: 0.9801\n",
            "Epoch 23/50\n",
            "23/23 [==============================] - 1s 54ms/step - loss: 0.0457 - accuracy: 0.9866\n",
            "Epoch 24/50\n",
            "23/23 [==============================] - 1s 55ms/step - loss: 0.0881 - accuracy: 0.9691\n",
            "Epoch 25/50\n",
            "23/23 [==============================] - 1s 54ms/step - loss: 0.0485 - accuracy: 0.9821\n",
            "Epoch 26/50\n",
            "23/23 [==============================] - 1s 56ms/step - loss: 0.0501 - accuracy: 0.9855\n",
            "Epoch 27/50\n",
            "23/23 [==============================] - 1s 54ms/step - loss: 0.0692 - accuracy: 0.9751\n",
            "Epoch 28/50\n",
            "23/23 [==============================] - 1s 55ms/step - loss: 0.0949 - accuracy: 0.9576\n",
            "Epoch 29/50\n",
            "23/23 [==============================] - 1s 56ms/step - loss: 0.0531 - accuracy: 0.9827\n",
            "Epoch 30/50\n",
            "23/23 [==============================] - 1s 56ms/step - loss: 0.0439 - accuracy: 0.9861\n",
            "Epoch 31/50\n",
            "23/23 [==============================] - 1s 54ms/step - loss: 0.0442 - accuracy: 0.9844\n",
            "Epoch 32/50\n",
            "23/23 [==============================] - 1s 55ms/step - loss: 0.0306 - accuracy: 0.9953\n",
            "Epoch 33/50\n",
            "23/23 [==============================] - 1s 54ms/step - loss: 0.0328 - accuracy: 0.9930\n",
            "Epoch 34/50\n",
            "23/23 [==============================] - 1s 55ms/step - loss: 0.0394 - accuracy: 0.9842\n",
            "Epoch 35/50\n",
            "23/23 [==============================] - 1s 54ms/step - loss: 0.0210 - accuracy: 0.9959\n",
            "Epoch 36/50\n",
            "23/23 [==============================] - 1s 54ms/step - loss: 0.0272 - accuracy: 0.9958\n",
            "Epoch 37/50\n",
            "23/23 [==============================] - 1s 56ms/step - loss: 0.0300 - accuracy: 0.9930\n",
            "Epoch 38/50\n",
            "23/23 [==============================] - 1s 55ms/step - loss: 0.0214 - accuracy: 0.9938\n",
            "Epoch 39/50\n",
            "23/23 [==============================] - 1s 53ms/step - loss: 0.0255 - accuracy: 0.9932\n",
            "Epoch 40/50\n",
            "23/23 [==============================] - 1s 54ms/step - loss: 0.0344 - accuracy: 0.9889\n",
            "Epoch 41/50\n",
            "23/23 [==============================] - 1s 54ms/step - loss: 0.0511 - accuracy: 0.9836\n",
            "Epoch 42/50\n",
            "23/23 [==============================] - 1s 54ms/step - loss: 0.0512 - accuracy: 0.9859\n",
            "Epoch 43/50\n",
            "23/23 [==============================] - 1s 52ms/step - loss: 0.0317 - accuracy: 0.9893\n",
            "Epoch 44/50\n",
            "23/23 [==============================] - 1s 55ms/step - loss: 0.0196 - accuracy: 0.9914\n",
            "Epoch 45/50\n",
            "23/23 [==============================] - 1s 56ms/step - loss: 0.0103 - accuracy: 0.9975\n",
            "Epoch 46/50\n",
            "23/23 [==============================] - 1s 57ms/step - loss: 0.0375 - accuracy: 0.9906\n",
            "Epoch 47/50\n",
            "23/23 [==============================] - 1s 55ms/step - loss: 0.0261 - accuracy: 0.9939\n",
            "Epoch 48/50\n",
            "23/23 [==============================] - 1s 54ms/step - loss: 0.0138 - accuracy: 0.9963\n",
            "Epoch 49/50\n",
            "23/23 [==============================] - 1s 54ms/step - loss: 0.0480 - accuracy: 0.9912\n",
            "Epoch 50/50\n",
            "23/23 [==============================] - 1s 54ms/step - loss: 0.0276 - accuracy: 0.9973\n",
            "0.9277777777777778\n",
            "              precision    recall  f1-score   support\n",
            "\n",
            "           0       0.95      0.91      0.93        94\n",
            "           1       0.91      0.94      0.93        86\n",
            "\n",
            "    accuracy                           0.93       180\n",
            "   macro avg       0.93      0.93      0.93       180\n",
            "weighted avg       0.93      0.93      0.93       180\n",
            "\n"
          ],
          "name": "stdout"
        }
      ]
    },
    {
      "cell_type": "markdown",
      "metadata": {
        "id": "4pRECF38qqM4"
      },
      "source": [
        "**Bidirectional LSTM with word embeddings**"
      ]
    },
    {
      "cell_type": "code",
      "metadata": {
        "colab": {
          "base_uri": "https://localhost:8080/"
        },
        "id": "PcMbIxBopvUc",
        "outputId": "6fb8d3e5-e734-4f88-d6a7-9d219378d3e8"
      },
      "source": [
        "model4 = Sequential() \n",
        "model4.add(Embedding(vocab_length, 300, weights=[embedding_matrix], input_length=35, trainable=False))\n",
        "model4.add(Dropout(0.5))\n",
        "model4.add(Bidirectional(LSTM(100)))\n",
        "model4.add(Dropout(0.5))\n",
        "model4.add(Dense(1,activation='sigmoid'))\n",
        "model4.compile(loss='binary_crossentropy',optimizer='adam',metrics=['accuracy'])\n",
        "print(model2.summary())"
      ],
      "execution_count": 31,
      "outputs": [
        {
          "output_type": "stream",
          "text": [
            "Model: \"sequential_1\"\n",
            "_________________________________________________________________\n",
            "Layer (type)                 Output Shape              Param #   \n",
            "=================================================================\n",
            "embedding_1 (Embedding)      (None, 20, 30)            150000    \n",
            "_________________________________________________________________\n",
            "dropout_2 (Dropout)          (None, 20, 30)            0         \n",
            "_________________________________________________________________\n",
            "bidirectional (Bidirectional (None, 200)               104800    \n",
            "_________________________________________________________________\n",
            "dropout_3 (Dropout)          (None, 200)               0         \n",
            "_________________________________________________________________\n",
            "dense_1 (Dense)              (None, 1)                 201       \n",
            "=================================================================\n",
            "Total params: 255,001\n",
            "Trainable params: 255,001\n",
            "Non-trainable params: 0\n",
            "_________________________________________________________________\n",
            "None\n"
          ],
          "name": "stdout"
        }
      ]
    },
    {
      "cell_type": "code",
      "metadata": {
        "colab": {
          "base_uri": "https://localhost:8080/"
        },
        "id": "0rDMEL6bquVk",
        "outputId": "18e92c71-49d9-41be-f8b2-09cdee1c7fae"
      },
      "source": [
        "model4.fit(X_train, y_train, epochs=50, verbose=1)\n",
        "model_predictions = (model4.predict(X_test) > 0.5).astype(\"int32\")\n",
        "print(accuracy_score(y_test, model_predictions))\n",
        "print(classification_report(y_test, model_predictions))"
      ],
      "execution_count": 34,
      "outputs": [
        {
          "output_type": "stream",
          "text": [
            "Epoch 1/50\n",
            "23/23 [==============================] - 2s 95ms/step - loss: 0.0075 - accuracy: 0.9986\n",
            "Epoch 2/50\n",
            "23/23 [==============================] - 2s 93ms/step - loss: 0.0174 - accuracy: 0.9958\n",
            "Epoch 3/50\n",
            "23/23 [==============================] - 2s 93ms/step - loss: 0.0053 - accuracy: 1.0000\n",
            "Epoch 4/50\n",
            "23/23 [==============================] - 2s 92ms/step - loss: 0.0134 - accuracy: 0.9972\n",
            "Epoch 5/50\n",
            "23/23 [==============================] - 2s 92ms/step - loss: 0.0052 - accuracy: 1.0000\n",
            "Epoch 6/50\n",
            "23/23 [==============================] - 2s 92ms/step - loss: 0.0033 - accuracy: 1.0000\n",
            "Epoch 7/50\n",
            "23/23 [==============================] - 2s 94ms/step - loss: 0.0064 - accuracy: 0.9986\n",
            "Epoch 8/50\n",
            "23/23 [==============================] - 2s 93ms/step - loss: 0.0106 - accuracy: 0.9958\n",
            "Epoch 9/50\n",
            "23/23 [==============================] - 2s 94ms/step - loss: 0.0122 - accuracy: 0.9958\n",
            "Epoch 10/50\n",
            "23/23 [==============================] - 2s 93ms/step - loss: 0.0065 - accuracy: 0.9972\n",
            "Epoch 11/50\n",
            "23/23 [==============================] - 2s 94ms/step - loss: 0.0043 - accuracy: 1.0000\n",
            "Epoch 12/50\n",
            "23/23 [==============================] - 2s 94ms/step - loss: 0.0066 - accuracy: 0.9972\n",
            "Epoch 13/50\n",
            "23/23 [==============================] - 2s 91ms/step - loss: 0.0083 - accuracy: 0.9944\n",
            "Epoch 14/50\n",
            "23/23 [==============================] - 2s 92ms/step - loss: 0.0090 - accuracy: 0.9972\n",
            "Epoch 15/50\n",
            "23/23 [==============================] - 2s 93ms/step - loss: 0.0033 - accuracy: 1.0000\n",
            "Epoch 16/50\n",
            "23/23 [==============================] - 2s 93ms/step - loss: 0.0043 - accuracy: 0.9986\n",
            "Epoch 17/50\n",
            "23/23 [==============================] - 2s 94ms/step - loss: 0.0063 - accuracy: 0.9986\n",
            "Epoch 18/50\n",
            "23/23 [==============================] - 2s 91ms/step - loss: 0.0124 - accuracy: 0.9972\n",
            "Epoch 19/50\n",
            "23/23 [==============================] - 2s 92ms/step - loss: 0.0056 - accuracy: 0.9972\n",
            "Epoch 20/50\n",
            "23/23 [==============================] - 2s 94ms/step - loss: 0.0030 - accuracy: 1.0000\n",
            "Epoch 21/50\n",
            "23/23 [==============================] - 2s 92ms/step - loss: 0.0013 - accuracy: 1.0000\n",
            "Epoch 22/50\n",
            "23/23 [==============================] - 2s 94ms/step - loss: 0.0014 - accuracy: 1.0000\n",
            "Epoch 23/50\n",
            "23/23 [==============================] - 2s 94ms/step - loss: 0.0015 - accuracy: 1.0000\n",
            "Epoch 24/50\n",
            "23/23 [==============================] - 2s 93ms/step - loss: 0.0013 - accuracy: 1.0000\n",
            "Epoch 25/50\n",
            "23/23 [==============================] - 2s 93ms/step - loss: 0.0063 - accuracy: 0.9986\n",
            "Epoch 26/50\n",
            "23/23 [==============================] - 2s 94ms/step - loss: 0.0042 - accuracy: 1.0000\n",
            "Epoch 27/50\n",
            "23/23 [==============================] - 2s 93ms/step - loss: 0.0052 - accuracy: 0.9986\n",
            "Epoch 28/50\n",
            "23/23 [==============================] - 2s 94ms/step - loss: 0.0018 - accuracy: 1.0000\n",
            "Epoch 29/50\n",
            "23/23 [==============================] - 2s 93ms/step - loss: 0.0033 - accuracy: 1.0000\n",
            "Epoch 30/50\n",
            "23/23 [==============================] - 2s 93ms/step - loss: 8.3139e-04 - accuracy: 1.0000\n",
            "Epoch 31/50\n",
            "23/23 [==============================] - 2s 92ms/step - loss: 0.0027 - accuracy: 1.0000\n",
            "Epoch 32/50\n",
            "23/23 [==============================] - 2s 95ms/step - loss: 0.0034 - accuracy: 1.0000\n",
            "Epoch 33/50\n",
            "23/23 [==============================] - 2s 93ms/step - loss: 0.0039 - accuracy: 0.9986\n",
            "Epoch 34/50\n",
            "23/23 [==============================] - 2s 93ms/step - loss: 0.0020 - accuracy: 1.0000\n",
            "Epoch 35/50\n",
            "23/23 [==============================] - 2s 95ms/step - loss: 0.0011 - accuracy: 1.0000\n",
            "Epoch 36/50\n",
            "23/23 [==============================] - 2s 95ms/step - loss: 0.0103 - accuracy: 0.9958\n",
            "Epoch 37/50\n",
            "23/23 [==============================] - 2s 93ms/step - loss: 0.0268 - accuracy: 0.9875\n",
            "Epoch 38/50\n",
            "23/23 [==============================] - 2s 93ms/step - loss: 0.0239 - accuracy: 0.9944\n",
            "Epoch 39/50\n",
            "23/23 [==============================] - 2s 92ms/step - loss: 0.0089 - accuracy: 0.9986\n",
            "Epoch 40/50\n",
            "23/23 [==============================] - 2s 92ms/step - loss: 0.0142 - accuracy: 0.9958\n",
            "Epoch 41/50\n",
            "23/23 [==============================] - 2s 93ms/step - loss: 0.0079 - accuracy: 0.9972\n",
            "Epoch 42/50\n",
            "23/23 [==============================] - 2s 93ms/step - loss: 0.0104 - accuracy: 0.9972\n",
            "Epoch 43/50\n",
            "23/23 [==============================] - 2s 94ms/step - loss: 0.0066 - accuracy: 0.9986\n",
            "Epoch 44/50\n",
            "23/23 [==============================] - 2s 94ms/step - loss: 0.0051 - accuracy: 0.9986\n",
            "Epoch 45/50\n",
            "23/23 [==============================] - 2s 94ms/step - loss: 0.0070 - accuracy: 0.9972\n",
            "Epoch 46/50\n",
            "23/23 [==============================] - 2s 94ms/step - loss: 0.0071 - accuracy: 0.9986\n",
            "Epoch 47/50\n",
            "23/23 [==============================] - 2s 93ms/step - loss: 0.0136 - accuracy: 0.9944\n",
            "Epoch 48/50\n",
            "23/23 [==============================] - 2s 94ms/step - loss: 0.0116 - accuracy: 0.9944\n",
            "Epoch 49/50\n",
            "23/23 [==============================] - 2s 93ms/step - loss: 0.0060 - accuracy: 1.0000\n",
            "Epoch 50/50\n",
            "23/23 [==============================] - 2s 93ms/step - loss: 0.0067 - accuracy: 0.9972\n",
            "0.95\n",
            "              precision    recall  f1-score   support\n",
            "\n",
            "           0       0.98      0.93      0.95        94\n",
            "           1       0.92      0.98      0.95        86\n",
            "\n",
            "    accuracy                           0.95       180\n",
            "   macro avg       0.95      0.95      0.95       180\n",
            "weighted avg       0.95      0.95      0.95       180\n",
            "\n"
          ],
          "name": "stdout"
        }
      ]
    },
    {
      "cell_type": "code",
      "metadata": {
        "colab": {
          "base_uri": "https://localhost:8080/",
          "height": 295
        },
        "id": "EPX6i1rrJCVz",
        "outputId": "2746c2de-e291-4641-f0b7-f2d67e7db233"
      },
      "source": [
        "from sklearn.metrics import confusion_matrix\n",
        "from sklearn.metrics import ConfusionMatrixDisplay\n",
        "\n",
        "# Need to use other confusion matrix as deep learning models not supported with plot_confusion_matrix\n",
        "cm = confusion_matrix(y_test, model_predictions, normalize='true')\n",
        "disp = ConfusionMatrixDisplay(confusion_matrix=cm,\n",
        "                              display_labels=class_names)\n",
        "\n",
        "\n",
        "disp = disp.plot(cmap=plt.cm.Blues)\n",
        "disp.ax_.set_title(\"Bidirectional LSTM Confusion Matrix\")\n",
        "plt.show()"
      ],
      "execution_count": 36,
      "outputs": [
        {
          "output_type": "display_data",
          "data": {
            "image/png": "[encoded data removed]",
            "text/plain": [
              "<Figure size 432x288 with 2 Axes>"
            ]
          },
          "metadata": {
            "tags": [],
            "needs_background": "light"
          }
        }
      ]
    }
  ]
}